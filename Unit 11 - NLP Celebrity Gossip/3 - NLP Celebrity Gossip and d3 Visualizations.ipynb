{
 "cells": [
  {
   "cell_type": "markdown",
   "metadata": {
    "collapsed": false
   },
   "source": [
    "Note: To view the d3 plots further down, you will need to download this entire folder to your local computer.\n",
    "\n",
    "Import the required packages below (there are a lot):"
   ]
  },
  {
   "cell_type": "code",
   "execution_count": 1,
   "metadata": {
    "collapsed": false
   },
   "outputs": [
   ],
   "source": [
    "import numpy as np\n",
    "import pandas as pd\n",
    "import matplotlib.pyplot as plt\n",
    "%matplotlib inline\n",
    "\n",
    "import re\n",
    "import string\n",
    "\n",
    "from collections import Counter\n",
    "\n",
    "from nltk.sentiment.util import *\n",
    "from nltk.sentiment.vader import SentimentIntensityAnalyzer\n",
    "\n",
    "from sklearn.feature_extraction.text import CountVectorizer\n",
    "from sklearn.feature_extraction.text import TfidfVectorizer\n",
    "\n",
    "\n",
    "from sklearn.decomposition import TruncatedSVD\n",
    "from sklearn.pipeline import Pipeline\n",
    "\n",
    "from sklearn.preprocessing import Normalizer, StandardScaler\n",
    "\n",
    "from sklearn.cluster import KMeans\n",
    "\n",
    "from sklearn import manifold"
   ]
  },
  {
   "cell_type": "markdown",
   "metadata": {
    "collapsed": false
   },
   "source": [
    "Let's read in 1507 TMZ celebrity gossip articles collected between 6/9/17 and 8/9/17 and print the first and last one in the list:"
   ]
  },
  {
   "cell_type": "code",
   "execution_count": 2,
   "metadata": {
    "collapsed": false
   },
   "outputs": [
    {
     "name": "stdout",
     "output_type": "stream",
     "text": [
      "DMX went to visit his family ... and he could go to jail as a result.The rapper is out on bail in his tax evasion case, and one of the conditions was that he must give the judge a heads-up if he blows out of town. He left New York to see family in St. Louis, without telling hizzoner ... and that could be a deal breaker.DMX's attorney, Murray Richman, tells TMZ ... it seems like X just forgot, because he was preoccupied with the trip.Richman says X usually notifies his probation officer if he's leaving New York to perform, so this is unlike him. He's guessing the judge will show a little mercy and just up the restrictions -- like requiring an ankle bracelet -- but Richman vows to fight it.Nicholas Biase, a spokesman for the  US attorney for the southern district of NY, tells us X is set to appear in court later this week.\n",
      "\n",
      "Bill Cosby brought MORE celeb pals to court for day 4 of his sexual assault trial.Cosby walked in with comedian Joe Torry and actor Lewis Dix Jr. Thursday, and the pals seemed very relaxed, even jovial -- despite serious allegations against Cosby.Earlier this week, Cosby arrived at court locked arm-in-arm with Keshia Knight Pulliam ... and on Wednesday with another former co-star, Sheila Frazier.\n"
     ]
    }
   ],
   "source": [
    "article_list = []\n",
    "with open('data/all_celeb_gossip.txt', 'r') as infile:\n",
    "    for article in infile:\n",
    "        article_list.append(article.strip())\n",
    "        \n",
    "print(article_list[0])\n",
    "print()\n",
    "print(article_list[-1])\n"
   ]
  },
  {
   "cell_type": "markdown",
   "metadata": {
    "collapsed": false
   },
   "source": [
    "### Topic Clustering"
   ]
  },
  {
   "cell_type": "markdown",
   "metadata": {
    "collapsed": false
   },
   "source": [
    "We'll create a pipeline that creates the TF-IDF matrix, calculates the Truncated SVD using the first 50 components, and normalizes it so that all of the components have unit length:"
   ]
  },
  {
   "cell_type": "code",
   "execution_count": 3,
   "metadata": {
    "collapsed": false
   },
   "outputs": [
    {
     "data": {
      "text/plain": [
       "Pipeline(memory=None,\n",
       "         steps=[('tfidf',\n",
       "                 TfidfVectorizer(analyzer='word', binary=False,\n",
       "                                 decode_error='strict',\n",
       "                                 dtype=<class 'numpy.float64'>,\n",
       "                                 encoding='utf-8', input='content',\n",
       "                                 lowercase=True, max_df=1.0, max_features=None,\n",
       "                                 min_df=10, ngram_range=(1, 1), norm='l2',\n",
       "                                 preprocessor=None, smooth_idf=True,\n",
       "                                 stop_words='english', strip_accents=None,\n",
       "                                 sublinear_tf=False,\n",
       "                                 token_pattern='\\\\b[a-zA-Z][a-zA-Z]+\\\\b',\n",
       "                                 tokenizer=None, use_idf=True,\n",
       "                                 vocabulary=None)),\n",
       "                ('lsa',\n",
       "                 TruncatedSVD(algorithm='randomized', n_components=50, n_iter=5,\n",
       "                              random_state=99, tol=0.0)),\n",
       "                ('normalizer', Normalizer(copy=True, norm='l2'))],\n",
       "         verbose=False)"
      ]
     },
     "execution_count": 3,
     "metadata": {
     },
     "output_type": "execute_result"
    }
   ],
   "source": [
    "pipe = [('tfidf', TfidfVectorizer(stop_words='english', \n",
    "                        token_pattern=\"\\\\b[a-zA-Z][a-zA-Z]+\\\\b\", \n",
    "                        min_df=10)),\n",
    "        ('lsa', TruncatedSVD(n_components=50, random_state=99)),\n",
    "        ('normalizer', Normalizer())]\n",
    "\n",
    "pipeline = Pipeline(pipe)\n",
    "pipeline.fit(article_list)"
   ]
  },
  {
   "cell_type": "markdown",
   "metadata": {
    "collapsed": false
   },
   "source": [
    "Now, we can get the most important words from each topic:"
   ]
  },
  {
   "cell_type": "code",
   "execution_count": 4,
   "metadata": {
    "collapsed": false
   },
   "outputs": [
    {
     "name": "stdout",
     "output_type": "stream",
     "text": [
      "                                    Topic 1:                                    \n",
      "chyna rob blac ferrari kardashian\n",
      "--------------------------------------------------------------------------------\n",
      "                                    Topic 2:                                    \n",
      "corinne demario bachelor paradise pool\n",
      "--------------------------------------------------------------------------------\n",
      "                                    Topic 3:                                    \n",
      "trump president donald white prez\n",
      "--------------------------------------------------------------------------------\n",
      "                                    Topic 4:                                    \n",
      "justin bieber tour church purpose\n",
      "--------------------------------------------------------------------------------\n",
      "                                    Topic 5:                                    \n",
      "cops trump chester arrested police\n",
      "--------------------------------------------------------------------------------\n",
      "                                    Topic 6:                                    \n",
      "chester chris bennington park family\n",
      "--------------------------------------------------------------------------------\n",
      "                                    Topic 7:                                    \n",
      "floyd conor fight mcgregor mayweather\n",
      "--------------------------------------------------------------------------------\n",
      "                                    Topic 8:                                    \n",
      "says chester chris justin conor\n",
      "--------------------------------------------------------------------------------\n",
      "                                    Topic 9:                                    \n",
      "kim kanye kelly jay sources\n",
      "--------------------------------------------------------------------------------\n"
     ]
    }
   ],
   "source": [
    "def print_topic_top_words(pipe, n_topics=10, n_words=5):\n",
    "    cv = pipe.steps[0][1]\n",
    "    model = pipe.steps[1][1]\n",
    "    feature_names = cv.get_feature_names()\n",
    "    \n",
    "    for topic_num in range(1,n_topics):\n",
    "        topic_mat = model.components_[topic_num]\n",
    "        \n",
    "        print('Topic {}:'.format(topic_num).center(80))\n",
    "        \n",
    "        topic_values = sorted(zip(topic_mat, feature_names), \n",
    "                              reverse=True)[:n_words]\n",
    "        print(' '.join([y for x,y in topic_values]))\n",
    "        print('-'*80)\n",
    "        \n",
    "print_topic_top_words(pipeline)"
   ]
  },
  {
   "cell_type": "markdown",
   "metadata": {
    "collapsed": false
   },
   "source": [
    "Note that the results above make a lot of sense. That summer, Blac Chyna and Rob Kardashian were going through a messy breakup, there was a Bachelor in Paradise sexual assault scandal, President Trump was recently elected, and Justin Bieber was in and out of rehab and trying to find God and on his Purpose World Tour.\n",
    "\n",
    "We can also try clustering the original data using KMeans unsupervised learning. First, we'll fit our model:"
   ]
  },
  {
   "cell_type": "code",
   "execution_count": 5,
   "metadata": {
    "collapsed": false
   },
   "outputs": [
    {
     "data": {
      "text/plain": [
       "KMeans(algorithm='auto', copy_x=True, init='k-means++', max_iter=300,\n",
       "       n_clusters=10, n_init=10, n_jobs=None, precompute_distances='auto',\n",
       "       random_state=99, tol=0.0001, verbose=0)"
      ]
     },
     "execution_count": 5,
     "metadata": {
     },
     "output_type": "execute_result"
    }
   ],
   "source": [
    "pipeline = Pipeline(pipe)\n",
    "X = pipeline.fit_transform(article_list)\n",
    "km = KMeans(n_clusters=10, random_state=99)\n",
    "km.fit(X)"
   ]
  },
  {
   "cell_type": "markdown",
   "metadata": {
    "collapsed": false
   },
   "source": [
    "For example, what cluster got labeled as 6? It looks like the Bachelor in Paradise sexual assault related articles:"
   ]
  },
  {
   "cell_type": "code",
   "execution_count": 6,
   "metadata": {
    "collapsed": false,
    "scrolled": true
   },
   "outputs": [
    {
     "name": "stdout",
     "output_type": "stream",
     "text": [
      "Corinne Olympios looked more than willing and fully conscious when she led DeMario Jackson into a pool as they started to hookup while shooting \"Bachelor in Paradise.\"A scene that appears to be part of the controversial incident -- where Corinne essentially claimed sexual assault because she says she was not conscious -- was teased Monday night during the 'Bachelorette' finale. It shows Corinne leading DeMario into the pool in the daylight, with some of her fellow cast members close by ... and cameras rolling.It seems Corinne's speaking coherently and looks very with it ... much like we reported. It's unclear, though, how much time passed between this pool scene and the alleged sexual misconduct. Her legal team says the footage that alarmed a 'BiP' producer -- which eventually shut down production -- took place in a hot tub, not the pool.We've confirmed that's accurate, and Warner Bros. says that hot tub footage will not be aired.\n",
      "\n",
      "Corinne Olympios was popping pills and mixing booze during \"Bachelor in Paradise\" filming before the infamous swimming pool hookup with DeMario Jackson ... TMZ has learned.Sources close to production tell TMZ ... Corinne made the admission during Saturday's taping of the 'BiP' reunion. We're told she didn't elaborate on what kind of Rx, but she's adamant -- ingesting the pills that day and mixing it with booze intensified her drunkenness, which she says led to her blacking out.TMZ broke the story ... production shut down following allegations of sexual misconduct in a pool. A producer felt Corinne was incapable of giving consent, but the video and interviews with various members of cast and crew led Warner Bros. honchos to conclude ... she knew what she was doing.It's interesting ... when 'BiP' filming resumed, new policies were implemented, such as checking bags for prescription drugs, legal or otherwise. Now it makes sense.\n",
      "\n",
      "\"Bachelor In Paradise\" is hyping a one-on-one showdown between Corinne Olympios and DeMario Jackson, but it will actually be more like Michael Phelps' race against a great white shark.Sources close to production tell us Corinne and DeMario did NOT come face-to-face when the reunion show taped Saturday. While promoting the show, host Chris Harrison has said he'll be talking with both of them together ... insinuating he'd be mediating/refereeing.While fans would eat that up ... it ain't gonna happen. We're told DeMario came out for a solo sit-down with Harrison, but left before Corinne did her one-on-one. We're told neither were briefed on plans to be onstage at the same time.Our DeMario sources tell us he's no longer interested in seeing Corinne face-to-face to hash out the aftermath from their pool sex encounter -- mostly because he doesn't think she would be genuine.\n",
      "\n",
      "Turns out controversial \"Bachelor In Paradise\" star DeMario Jackson may not be done with reality TV -- TMZ has learned producers are seriously considering him for a \"Dancing With the Stars\" slot.Sources close to production tell us the show reached out to DeMario's publicist weeks ago, which explains why he was already fully campaigning to be in the ballroom when we asked about it last week.We're told nothing's signed ... they're still negotiating, but hard to imagine a scenario where DeMario doesn't take this opportunity.DeMario didn't return to the 'BiP' set in Mexico following the oral sex controversy with Corinne Olympios that shut down production, but he will be on the reunion episode.\n",
      "\n",
      "Robby Hayes and Amanda Stanton are now a thing, thanks to \"Bachelor in Paradise.\" Oh, and ... spoiler alert.Amanda and Robby were hand-in-hand for a weekend stroll in WeHo. We're not judging, but seems like they're already coordinating their wardrobes (Ok, we're judging).They were both down in Mexico shooting the upcoming 'BiP' season ... and maybe the third time will be the charm for Amanda. She finished fourth on Ben Higgins' 'Bachelor' season, and was briefly engaged to Josh Murray before calling it off in December 2016.Robby was the runner-up on JoJo Fletcher's season.If at first you don't succeed ... get recast!\n",
      "\n",
      "Corinne Olympios could come face-to-face with DeMario Jackson on the \"Bachelor in Paradise\" reunion show, 'cause she'll be there ... according to Corinne herself.Corinne put out a statement Wednesday, saying, \"I am very happy to be appearing on the Bachelor In Paradise Special\" which her rep confirmed was, in fact, the reunion show that'll take place in the near future ... seeing how filming has wrapped.We broke the story ... DeMario -- who was at the center of the sex scandal on the show with Corinne -- will also be at the 'BiP' renuion show ... and he wants to settle things with Corinne once and for all.\n",
      "\n",
      "\"Bachelor in Paradise\" has a new way of reeling in viewers ... tapping into the sex scandal that temporarily shipwrecked the show.Production sources tell TMZ, host Chris Harrison held a powwow with the cast on the first day back to film the show after the Warner Bros. probe concluded there was no sexual assault ... and the cameras were rolling as he took people back to the Corinne Olympios/DeMario Jackson sexual escapade in the pool.We're told Harrison dramatically recounted how a producer expressed concerns and it turned into a full blown scandal. After taking everyone through the investigation, he paused, then asked the cast if they were comfortable continuing, and gave them a chance to pack up and leave.To absolutely no one's surprise, everyone stayed, drank and even banged in the boom boom room.Lemonade ... it comes from lemons.\n",
      "\n",
      "DeMario Jackson is not only willing ... he's eager to appear on a \"Bachelor in Paradise\" reunion show so he can hug all his former castmates who privately supported him over Corinne Olympios' sexual assault allegations.DeMario was at Toast in L.A. Saturday and he clearly holds no grudges.  Listen to him describe his feelings for Corinne ... this after she came on strong that she did not have the capacity to consent to a sexual escapade with DeMario in a swimming pool.\n",
      "\n",
      "Lexi Thexton﻿'s message to DeMario Jackson ﻿for ditching her to go on \"The Bachelorette?\" -- the pose says it all ... ya assed out on getting this!!!Lexi showed off her buns in a pink bikini in Santa Monica ... and she's as hot as the sand.You'll recall Rachel Lindsay infamously booted DeMario when Lexi made a surprise 'Bachelorette' appearance to confront him for going on the show even though, according to her, they were still an item.\n",
      "\n",
      "DeMario Jackson doesn't care that some people think he committed sexual assault on \"Bachelor in Paradise\" -- despite being cleared -- and he seems to target the haters as racists from Oklahoma.DeMario was at a WeHo spa this week, when he told our photog he has no regrets over doing the show. He says he met some great people, although we're guessing one of them is not Corinne Olympios.It's unclear why he's got such a thing against Oklahoma. Hated the musical?\n",
      "\n",
      "\"Bachelor in Paradise\" star Amanda Stanton just finished shooting the show, and she says the new rules didn't really get in the way when it came to hooking up.Amanda flew into John Wayne Airport from Mexico Wednesday and told our photog she followed the new rules in the wake of the Corinne/DeMario fiasco ... namely, making it clear sex is consensual.She also adhered to the 2 drink per hour rule, although it sounds like Amanda believes 2 drinks were required!\n",
      "\n",
      "Corinne Olympios is satisfied with her legal team's investigation into the \"Bachelor in Paradise\" pool incident with DeMario Jackson.Corinne says, \"I felt victimized by the fact that others were judging me through conflicting and unsubstantiated reports, while I myself had no recollection of the events that transpired. My team’s investigation into this matter has now been completed to my satisfaction.\"As we reported, Corinne hired Marty Singer to represent her. After Warner Bros. announced its investigation revealed no wrongdoing on DeMario's part, Singer said he would continue looking into what happened when Corinne and DeMario had a drunken hookup in the pool.Corinne adds, \"My intent over the past few weeks has been to learn and understand what happened on June 4. While I never filed complaints or accusations against anyone associated with Bachelor in Paradise, my team and I felt it was very important to be thorough in getting to the bottom of what had occurred.\"\n",
      "\n",
      "The cast of \"Bachelor in Paradise\" now has a VERY close relationship with the crew under the show's new rules. The question is, business as usual, or the new normal?Contestants were hanging poolside at the Mexican resort where 'BiP' resumed filming after the DeMario Jackson/Corinne Olympios sex scandal. It's plain as day .. cameramen and producers are hovering like flies over their stars.We broke the stories ... 'BiP' showrunners have implemented strict new rules for the cast, including a 2 drink maximum per hour, a sweep for illegal drugs ... and having to get permission from producers before hooking up.\n",
      "\n",
      "DeMario Jackson doesn't need the 'Bachelor' franchise to help him wrangle hot chicks ... dude's leaving the club with car loads of them post his and Corinne's \"Bachelor in Paradise\" mess.Corinne didn't get an invite back to the show, which is back in production, but DeMario has said he's done with it forever.\n",
      "\n",
      "\"Bachelor in Paradise\" contestants who want to have sex must wait a beat and get permission from producers ... TMZ has learned.Sources at the Mexican resort where the show is being filmed tell TMZ there are new rules in place regarding sex ... especially in \"The Boom Boom Room\" -- where most indoor sex goes down.We're told before anyone can get it on, both parties must go to a producer and state that they consent. If the producer feels either party is incapable of giving consent, the producer can pull the plug.We're told when contestants arrived over the weekend, they sat through a 2-hour meeting with lawyers and others who ran through all the rules.And get this ... if contestants violate the rule and go right into \"The Boom Boom Room,\" producers can barge in and stop things mid-coitus.TMZ broke the story ... Warner Bros. implemented new rules as part of the show's reboot, including handing over all drugs -- legal or not -- and a 2-drink maximum per hour.\n",
      "\n",
      "\"Bachelor in Paradise\" producers aren't taking any chances of drunken, nonconsensual sex ... because they've imposed new drinking rules on the cast.Production sources tell us there is now a 2 drink max per hour. We're told the crew is monitoring drinking levels among the cast and the bartenders are also responsible for keeping tabs.Producers have also made a point of providing food at all times during the shoots ... presumably to absorb the alcohol.We're told the cast got a talkin' to over the whole Corinne/DeMario situation, both on and off camera, and drinking was a big talking point.\n",
      "\n",
      "DeMario Jackson is looking for answers, and thinks a 1-on-1 with Corinne Olympios could help him finally get some peace of mind ... but she's gotta make the first move.Sources close to the \"Bachelor in Paradise\" outcast tell TMZ ... he wants to chat with Corinne about her sexual assault claim. DeMario's telling friends he doesn't hold a grudge -- after being cleared by Warner Bros. -- especially since he's bound to see Corinne again with other 'Bachelor' alums.We're told DeMario was \"blindsided and confused\" when he heard she claimed to be a victim, because when they got sent home producers told him it was because a third party had a problem with their pool sexcapade -- not Corinne.DeMario assumed he and Corinne would move on and be friends since they got along so well the first day filming -- laughing, chatting and hooking up -- so he doesn't understand what changed.There's a catch -- we're also told DeMario's not going to reach out to Corinne. He feels the ball's in her court since she played the victim card ... but he'll drop everything to meet with her if she calls.\n",
      "\n",
      "DeMario Jackson's livin' easy now that Warner Bros. cleared him of sexual assault on \"Bachelor in Paradise\" ... and the handful of hot women with him probably helps too.DeMario hit up Avenue in L.A. for a night out with several ladies Friday night. He didn't answer any questions ... but his smile said a lot. Questionable t-shirt choice though.We broke the story ... Warner Bros. concluded their investigation of Jackson's 'BiP' scandal with Corinne Olympios and found no sexual assault occurred. Still, DeMario says he won't return to the show.\n",
      "\n",
      "\"Bachelor in Paradise\" contestants will have to ante up all drugs -- both legal and not -- when they land in Mexico for the relaunched version this weekend.TMZ has obtained an email sent by producers to contestants, which informs them of some of the \"new procedures\" that have been initiated in the wake of the Corinne Olympios/DeMario Jackson scandal.The email reads in part, \"Upon your arrival, your bags will be inventoried specifically for any over the counter and prescription drugs that are not prescribed to you.\" Any prescription/illegal drugs will be confiscated.\"The email goes on ... \"All drugs, over the counter and prescribed, must be submitted to the Nurse to keep and dispense accordingly for your stay in Mexico.\"Our production sources say the drug policy is NOT related to Corinne's claim she blacked out during a sexual encounter with DeMario in a swimming pool. We broke the story, Warner Bros. investigated and after reviewing the video concluded she was alert and fully engaged throughout. There is no evidence she was on drugs.\n",
      "\n",
      "Former \"Bachelor\" contestant AshLee Frazier thinks nothing untoward happened between Corinne and DeMario on \"Bachelor in Paradise\" and strongly believes they should come back and hook up.We got the Season 17 alum at LAX Friday, and she thinks the whole sexual assault thing was made up by a disgruntled producer. TMZ broke the story ... Warner Bros. conducted an investigation and determined Corinne was alert and fully engaged when she engaged in oral sex with DeMario in a pool.\n",
      "\n",
      "DeMario Jackson -- the guy who had oral sex with Corinne Olympios during filming of \"Bachelor in Paradise\" -- is done with the show.Sources close to DeMario tell TMZ he's suffered from anxiety over the scandal after living under a cloud of suspicion for a week. He's even started seeing a therapist. And, he's upset because his name will now forever be linked to a sex scandal, even though Warner Bros. essentially concluded he did nothing wrong.We're told DeMario claims producers spoke to his lawyer and invited him back on the show, but he's done. Other sources dispute that he was invited back and say no decision has been made.We're told DeMario now wants to ditch reality TV for a career as an on-air personality.\n",
      "\n",
      "Corinne Olympios' boyfriend does not believe she cheated on him, does not believe the Warner Bros. investigation was kosher, and will not dump her.Jordan Gielchinsky has made it clear to friends ... he still believes Corinne that she was in a blackout state when she had oral sex with DeMario Jackson in a swimming pool during the first day of 'BIP' filming.Jordan claims he has spoken to several cast members who back up her story, and he thinks the Warner Bros. investigation was a whitewash so the show could resume filming.As we reported, multiple people who have seen the video say Corinne seemed fully engaged in the pool and at no time does she seem out of it.We're told Corinne made a deal with Jordan ... she wouldn't have sex with anyone on the show. He thinks the swimming pool incident doesn't count because she was drunk out of her mind.Jordan's also suspicious because he says Corinne's lawyer has not been able to see the tape but it was shown to DeMario's attorney. Our sources say Warner Bros. isn't sharing the video with Corinne's legal team because she's threatened legal action.The question, is Jordan right ... or is he love blind?\n",
      "\n",
      "Corinne Olympios isn't ready to accept Warner Bros.' word about what went down between her and DeMario Jackson on the \"Bachelor in Paradise\" set, and she's continuing her own investigation.Corinne's high-powered attorney, Marty Singer, says, \"It comes as no surprise that Warner Bros., as a result of its own internal investigation, would state that no wrong doing had occurred. Our own investigation will continue based on multiple new witnesses coming forward revealing what they saw and heard.”Singer also points out ... it was one of the show's own producers who thought something was improper on set -- “It needs to be made crystal clear that production of 'Bachelor in Paradise' was shut down because of multiple complaints received from 'BIP' producers and crew members on the set. It was not shut down due to any complaint filed by Corinne against anyone.\"Corinne has yet to say IF she's suing, and if so ... who she'd sue. She was tight-lipped in Hollywood after the Warner Bros. announcement.\n",
      "\n",
      "The investigation into alleged sexual assault on \"Bachelor in Paradise\" is over ... and the conclusion -- no sexual assault, TMZ has learned, and the show will go on.TMZ broke the story ... the show was put on ice after a producer claimed Corinne Olympios was so drunk she was not capable of consenting to oral sex in a swimming pool with DeMario Jackson.Warner Bros. put the show on hold during the investigation. As we reported, multiple people who saw the video claim Corinne was \"fully engaged\" and lucid throughout the sexual encounter.We're told the investigation is now complete and the finding was there was no sexual assault.We're told DeMario's lawyer met with Warner Bros. lawyers Monday, reviewed the tapes and assured him he was in the clear.Our sources say filming will resume in the same location in Mexico. The show will air this summer.As for the swimming pool incident, Warner Bros. says it will not be released.As for Corinne and DeMario ... we're told no decisions have been made on whether they'll be on the show.\n",
      "\n",
      "DeMario Jackson says he wouldn't have hooked up with Corinne Olympios if he knew she had a BF ... this from the guy who got kicked off \"The Bachelorette\" for having a GF.DeMario was out Sunday in L.A. when a pap asked if he would have done what he did in the pool with Corinne if he'd known? DeMario says absolutely not.It's interesting though -- DeMario was booted from Rachel Lindsay's 'Bachelorette' season and got made into a villain after he was caught lying about his then-girlfriend ... who isn't a big fan of his to this day.\n",
      "\n",
      "\"Bachelor in Paradise\" has a happy ending ... at least for last season, because two of its stars just tied the knot.Evan Bass and Carly Waddell from 'BIP' season 3 said their \"I do's\" during a beach wedding near Puerto Vallarta, Mexico.ABC will air the wedding despite controversy over 'BIP' and sexual assault allegations made by Corinne Olympios against DeMario Jackson and producers. Warner Bros is investigating.\n",
      "\n",
      "Corinne Olympios and her BF are putting up a united front during her \"Bachelor in Paradise\" sex scandal with DeMario Jackson ... even if they're not talking about it.Corinne grabbed some lunch Saturday in L.A. with Jordan Gielchinsky, carrying on like your average couple ... even though their situation is anything but. Both were mum on Corinne's next move.We broke the story ... Jordan is standing by Corinne in the midst of the investigation over her sexual encounter with fellow \"BiP\" contestant DeMario -- despite agreeing she wouldn't hook up on the show. Corinne says she was out of it and it wasn't consensual.Classic move by a good beau.\n",
      "\n",
      "'Bachelor in Paradise' star DeMario Jackson resurfaced Saturday night after his co-star Corinne Olympios accused him of sexual assault.Jackson chowed down at Sista Mary's in Glendale.  TMZ broke the story, DeMario insists Corinne was not only lucid when they engaged in oral sex in a swimming pool the first day of taping ... he says she was the instigator.  As we reported, people who have seen the video also say she was lucid.As for Corinne, who has lawyered up with legal pit bull Marty Singer, she was out Saturday walking the dog.  She says she has no recollection of the events in the pool and that she was literally falling down drunk in a blackout state and believes producers should have protected her.The show was put on ice while Warner Bros. investigates.\n",
      "\n",
      "Corinne Olympios' boyfriend knew exactly what he was signing up for when she decided to go on \"Bachelor in Paradise\" ... with one HUGE caveat.Sources close to the couple tell TMZ ... Corinne and her BF, Jordan Gielchinsky, agreed she would NOT hook up with other cast members, and was only going to do the show to get pub for her new clothing line. Her plan was to be on for a couple episodes, and then bow out.Of course, that plan went to crap on the first day of taping when DeMario Jackson and Corinne ended up \"rubbing, touching and fingering\" in the pool. We broke the story ... Warner Bros. shut down production, launched an investigation and sent the cast home.We're told Jordan was initially upset when he heard what went down, but once he got the full context of the event -- meaning the heavy drinking -- he backed Corinne. He agrees she was way too drunk to give consent, and strongly believes producers and medical staffers should have intervened.The couple's been inseparable in L.A. since she returned from Mexico.\n",
      "\n",
      "Corinne Olympios was so drunk when she got sexual with fellow \"Bachelor in Paradise\" castmate, DeMario Jackson, she did a face-plant in the Jacuzzi and after she was dragged and laying on the ground the sexual contact continued, but sources who have seen the video say it just didn't happen.Sources involved in Corinne's representation tell TMZ ... she had a half a bottle of champagne in a vehicle before arriving at the bar, where she had some mixed drinks with hard liquor as well as one or 2 shots.The sources say she did not object to the sexual contact and may have indeed consented, but they say she was not capable of consent, point to the \"Jacuzzi face-plant\" and being laid out on the ground.They also claim a cast member told producers after the face-plant to stop, but they responded that she was \"fine.\"But our sources who have seen the video say Corinne's version is \"absolutely not true\" ... no face-plant, no being laid out on the ground ... nothing like that. The sources who have seen the tape say she was clearly with it the entire time in the pool, and there's no ambiguity after seeing the video.\n",
      "\n",
      "\"Mob Wives\" star Renee Graziano just can't believe it ... drama in paradise?!Renee was leaving Craig's Thursday night in WeHo when we asked her about the \"Bachelor in Paradise\" controversy over alleged sexual misconduct between Corinne Olympios and DeMario Jackson in the pool.  As we reported, \"B.I.P\" has been put on ice while Warner Bros. investigates.\n",
      "\n",
      "DeMario Jackson's ex-gf -- the woman who exposed him as a villain on national TV -- is actually coming to his defense in the Corinne Olympios scandal ... but she has a strange way of doing it.Lexi Thexton claims DeMario is nothing more than a \"30-year-old man child\" who parties way too much -- but also says there's no way the \"Bachelor in Paradise\" star would knowingly take advantage of a drunk woman ... as Corinne insinuated when she declared she's a victim.For Lexi to say anything supportive about her ex is a big deal. Mind you, she also called him a \"sh***y guy\" who's completely self-absorbed ... among a list of other insults. She did offer a theory about what really happened with Corinne -- and strongly believes it's more about 2 people getting too drunk.For non-'Bachelorette' viewers ... Lexi made a surprise appearance on the show, calling out DeMario for trying to woo Rachel Lindsay﻿ while still dating her. He got booted off the show that very same episode.\n",
      "\n",
      "Now that Corinne Olympios appears headed for a legal showdown with producers of \"Bachelor in Paradise\" ... the contract she signed becomes extrememly relevant, and problematic.The contract contestants sign, obtained by TMZ, says in part all contestants waive their right to sue producers over claims of \"negligence, personal injury (including without limitation, any injuries arising out of the transmission of a sexually transmitted disease or unwelcome/unlawful contact or other interaction among participants).\"The short of it ... even if she was in a blackout state when she was engaged in sexual activity with DeMario Jackson, the producers would not be responsible. There's a catch ... courts have made it clear in situations involving similar contracts, if the producers were reckless that clause would not be enforceable. And it would seem watching someone incapable of giving consent to sexual activity and allowing it to happen ... is reckless.And still another catch ... as we reported, people who have seen the video tell us Corinne seems lucid and engaged during the entire swimming pool episode.\n",
      "\n",
      "DeMario Jackson doesn't want anyone hating on Corinne Olympios for what went down in the pool between them ... leading to \"Bachelor in Paradise\" production shutting down﻿.Jackson was leaving a gym in L.A. when he was asked if he was any closer to obtaining the pool footage he believes will clear him of wrongdoing. He's tight-lipped about that ... but opens up about Corinne and any backlash from their sexual encounter.\n",
      "\n",
      "Corinne Olympios was topless in the pool with DeMario Jackson and so aware of her surroundings, she greeted a cast member walking by, showing no signs of distress -- but Corinne's attorney isn't buying it.Sources close to the \"Bachelor in Paradise\" cast tell TMZ ... one female cast member walked right by the pool when Corinne and DeMario were hooking up, and saw her with her top off and her legs wrapped around him. We're told Corinne yelled out to the passerby by name and seemed \"very with it\" ... coherent.The cast member told others she would have done something to break up the pool tryst if she felt Corinne was too drunk. Further, the cast member says cameras followed her when she walked by ... so the whole encounter should be on tape.Corinne's attorney, Marty Singer, tells TMZ ... \"If nothing inappropriate happened, why did production get shut down? Something serious clearly happened.\"The female cast member says Corinne talked about the DeMario hookup the next day because she was upset her boyfriend, back home, would find out -- but she never heard Corinne say anything about it being non-consensual.\n",
      "\n",
      "Corinne Olympios has hired a team to \"seek justice\" for the \"Bachelor in Paradise\" swimming pool incident ... TMZ has learned.Corinne tells TMZ ... \"I am a victim and have spent the last week trying to make sense of what happened on June 4. Although I have little memory of that night, something bad obviously took place, which I understand is why production on the show has now been suspended and a producer on the show has filed a complaint against the production.\"Corinne goes on ... \"As a woman, this is my worst nightmare and it has now become my reality. As I pursue the details and facts surrounding that night and the immediate days after, I have retained a group of professionals to ensure that what happened on June 4 comes to light and I can continue my life, including hiring an attorney to obtain justice and seeking therapy to begin dealing with the physical and emotional trauma stemming from that evening.\"TMZ has learned Corinne hired Marty Singer, and that makes it feel like a lawsuit is brewing.TMZ broke the story ... Corinne and fellow 'BIP' castmate DeMario Jackson got extremely sexual in a swimming pool the first day of filming. DeMario says Corinne was the instigator and was lucid the entire time. Sources who have seen the tape also say Corinne appeared lucid. We're told both were drunk ... the central issue becomes, just how drunk?\n",
      "\n",
      "\"Bachelor in Paradise\" star DeMario Jackson certainly doesn't look like a man in the middle of a serious reality TV controversy.DeMario was out with a bunch of his friends Tuesday night as the group hit up Saint & Second in Long Beach. He appeared pretty loose ... never mind the controversy surrounding him and co-star Corinne Olympios.As we reported ... DeMario wants the pool sex video released because he feels he did nothing wrong.\n",
      "\n",
      "\"Bachelor in Paradise\" star DeMario Jackson desperately wants the tape of his sexual encounter with Corinne Olympios to be released so he can clear his name.Sources close to DeMario tell TMZ ... he's hell-bent on getting a copy of the footage of himself and Corinne \"rubbing, touching and fingering\" in the pool. We're told he already had a lawyer contact Warner Bros requesting the tape.DeMario believes the video will prove what he's said all along -- Corinne was lucid and he did nothing wrong. If he can't get a copy, we're told he wants WB to release it on its own. DeMario also wants them to release a statement clarifying HE isn't under investigation.Multiple people who've seen the footage tell us ... the encounter appears completely consensual and DeMario is in no way the aggressor. In fact, we're told he and Corinne seemed kind and considerate to each other.Our sources say DeMario's looking to lawyer up because although Corinne hasn't blamed him yet, he's not taking any chances. When we saw him in WeHo Tuesday, he seemed to bear no grudge toward her.\n",
      "\n",
      "DeMario Jackson came out of hiding and while he was mostly tight-lipped about the sexual encounter with Corinne Olympios that shut down \"Bachelor in Paradise\" ... he did answer one key question.The 'BIP' star was leaving Caffe Primo in West Hollywood Tuesday when paps peppered him with questions. We asked what he thought about Corinne saying she was too wasted to consent ... and if he was pissed.DeMario's clearly playing this close to the vest, but he at least wants everyone to know where he stands with Corinne.\n",
      "\n",
      "Corinne Olympios was so wasted several hours after she and DeMario Jackson hooked up, she could hardly stand.Witnesses at the Mexican resort tell us 2 hours after her sexual encounter with DeMario ... she was stumbling drunk, eyes closed, slurring badly and wearing her clothes inside out.  As one source put it, \"she was on a whole other level.\"TMZ broke the story, a week ago Sunday Corinne and DeMario were naked in the pool, \"rubbing, touching and fingering\" and engaging in oral sex.As we reported, Corinne insists she was so wasted she was incapable of giving consent, and blames producers for not calling a halt to the escapade. She says she has no recollection of events in the pool.People who have seen footage of the encounter tell TMZ it's apparent she was lucid the entire time.We know DeMario says when they went to the pool, Corinne was drunk but still lucid.Connecting the dots ... it's possible Corinne was drunk but still with it at the pool, but as she continued drinking entered a blackout stage and forgot most of what happened from the time she began drinking.\n",
      "\n",
      "Corinne Olympios claims she was in a blackout state when she got sexual with fellow \"Bachelor in Paradise\" star DeMario Jackson ... and she blames producers for not pulling the plug and protecting her, although our sources say people who have seen the tape claim she was lucid and fully engaged.Sources close to Corinne tell TMZ she was drunk the entire day of filming when she ended up naked in the swimming pool with DeMario. Although DeMario remembers everything -- from \"rubbing, touching and fingering\" to licking her genitals -- she says she remembers nothing.We're told the day after the swimming pool incident she claims fellow cast members began telling her stories of what went down with DeMario. She says several cast members told her they had voiced concern to people on the production crew that she was in no position to consent to sexual activity, but the crew did not heed their warnings.Production sources insist other cast members did not complain to anyone that Corinne was too drunk to form an intent to have sexual contact with DeMario.Corinne has told her friends she has a boyfriend and wouldn't have done what she did -- especially with cameras rolling -- to jeopardize that relationship.As we reported, sources familiar with the footage say she appeared \"fully engaged.\" Corrine doesn't fully blame DeMario because he too was drunk. She blames producers and has lawyered up.\"Bachelor in Paradise\" has been shut down as Warner Bros investigates.\n",
      "\n",
      "\"Bachelor in Paradise\" was shut down because a field producer filed a complaint that Corinne Olympios seemed so drunk the first day of filming she had no ability to consent to DeMario Jackson's sexual moves in a swimming pool, and producers nonetheless let it play out on film.The producer in question believes Corinne may have been sexually assaulted, although we know DeMario claims the encounter was not only consensual ... she was the instigator.TMZ broke the story of DeMario's version of events ... that he and Corinne were drinking heavily and making out at the bar. She suggested they take it to the swimming pool, where they took their clothes off and began \"rubbing, touching and fingering.\" He also claims she put her genitals in his face and he began licking. He says he was unable to consummate things because he was so drunk.Our sources say the field producer in question was assigned to shadow Corinne, and began hearing stories from people on the set that Corinne was so drunk she had no idea what was going on in the pool. It's unclear if the producer watched the incident, but we know she has NOT seen the footage.People familiar with the footage tell TMZ Corinne appears \"fully engaged.\" As we reported, after the complaint was filed Warner Bros immediately dismissed both DeMario and Corinne and launched an investigation into \"misconduct.\"\n",
      "\n",
      "\"Bachelor in Paradise\" stars Corinne Olympios and DeMario Jackson pushed the envelope too far, and \"the truth came to light\" ... so says 'Bachlorette' star Eric Bigger.Eric was leaving Nightingale Sunday night and chimed in on the 'BiP' controversy that shut down production. He believes Corrine and DeMario probably were having fun, until things got out of hand.TMZ broke the story ... a producer complained about the contestants getting extremely sexual in a swimming pool. Warner Bros halted production and launched an investigation.\n",
      "\n",
      "\"Bachelor in Paradise\" was shut down after a producer complained about 2 contestants getting extremely sexual in a swimming pool ... this according to sources connected to contestant DeMario Jackson, but there are different versions and Warner Bros. has launched a full investigation.Here's DeMario's version of events, as told by people with whom he spoke:Last Sunday -- the first day of production at a Mexican resort -- DeMario Jackson and Corinne Olympios were told by producers one of the story lines would be the 2 of them hooking up ... especially entertaining because both are considered villains from previous shows.We're told the 2 met at the bar and the alcohol was flowing. DeMario says Corinne jumped in his lap and started making out with him. We're told there was lots of \"intense rubbing.\"DeMario says Corinne then suggested they retreat to the pool, with the cameras rolling. They took off their clothes, started making out and \"rubbing, touching and fingering.\" He says she put her genitals in his face and he began licking, but we're told this allegation is a big point of contention and others disagree with his account. He says he was not able to engage in intercourse because of the alcohol.DeMario says the next day everything was fine and he and Corrine were actually getting along well, but on Tuesday they were called in by the Executive Producer and told one of the show producers had seen the film and was \"uncomfortable\" with what was shot.The producer has filed a formal complaint with Warner Bros. Warner brass immediately suspended production, launched an investigation and released DeMario and Corrine. Two days later Warner Bros. released the entire cast while they investigated alleged \"misconduct.\"\n",
      "\n",
      "Production for 'Bachelor in Paradise' has been suspended after allegations of misconduct were reported ... which puts a halt to filming for the upcoming season indefinitely.Warner Bros. execs for the show said Sunday that they had been alerted to some sort of misconduct on the set of 'BiP', which is currently shooting in Mexico.As a result of the allegations -- which at this point have not been made public -- WB has put a temporary halt to the show and is now investigating. They've said they will also take appropriate action upon completing the investigation.This season of 'BiP' is highly anticipated, especially after Nick Viall's recent stint on 'The Bachelor.' Some of his axed ladies like Raven Gates, Corinne Olympios and Taylor Nolan were cast, as was Amanda Stanton from Ben Higgins' season. Some of the guys cast were Derek Peth, Nick Benvenutti, Ben Zorn and DeMario Jackson.\n",
      "\n"
     ]
    }
   ],
   "source": [
    "for i in range(len(km.labels_)):\n",
    "    if km.labels_[i] == 6:\n",
    "        print(article_list[i])\n",
    "        print()"
   ]
  },
  {
   "cell_type": "markdown",
   "metadata": {
    "collapsed": false
   },
   "source": [
    "What got labeled as 7? The Rob Kardashian Blac Chyna breakup:"
   ]
  },
  {
   "cell_type": "code",
   "execution_count": 7,
   "metadata": {
    "collapsed": false
   },
   "outputs": [
    {
     "name": "stdout",
     "output_type": "stream",
     "text": [
      "Chester Bennington's inner circle was not about to let someone profit off his funeral ... so they stepped up and helped stop the person trying to sell his memorial items.Sources close to Chester tell TMZ ... they found out someone posted a program, wristband, lanyard and pin from Chester's service on eBay Tuesday, and immediately contacted the site asking to have the items removed.Ebay did exactly that ... but not before the highest bid topped $50,000. An eBay spokesperson tells us the company doesn't allow sales of items that \"attempt to profit from tragedy.\" We're told they contacted and educated the seller, and will take further action if it happens again.\n",
      "\n",
      "Linkin Park's Mike Shinoda is trying to get back to a normal life after his bandmate Chester Bennington's death nearly two weeks ago.Shinoda and his wife, Anna, held hands Wednesday as they left Beverly Glen Market in Los Angeles. Sad thought for Linkin Park fans ... Mike and the rest of the band would've been on the East Coast this week. Of course, they canceled the tour after Chester's suicide.Shinoda, along with bandmate Joe Hahn, eulogized Chester at Saturday's private funeral in Palos Verdes.\n",
      "\n",
      "Chester Bennington's death certificate confirms the details we knew ... that the 41-year-old singer committed suicide with a belt.According to the doc, obtained by TMZ, the Linkin Park singer died at 9:08 AM in his residence on July 20. The immediate cause of death is listed as hanging.Chester's referred to as a \"rock star musician\" on the certificate, and had been in the music biz since he was 14 years old.We broke the story ... Bennington died in his home nearly 2 weeks ago.\n",
      "\n",
      "Coldplay made it clear with a moving tribute during their concert ... Chester Bennington's death is still weighing heavily on the minds of his comrades in the music biz.Chris Martin and co. kicked off their North American tour Tuesday night in NJ, and near the show's end ... Chris said he wanted to dedicate Linkin Park's hit, \"Crawling,\" to anyone who was missing someone.Chris was seated at a piano for the stripped-down acoustic version.\n",
      "\n",
      "Chester Bennington's family and closest friends gathered for a private funeral near his home in Palos Verdes, CA.A couple hundred people attended the service Saturday afternoon at South Coast Botanic Garden -- many of the guests were musicians who'd played or toured with Chester and Linkin Park. A full stage, including a drum kit, was set up for musical tributes to be performed.Police provided tight security at the event. As TMZ first reported ... the family opted for a private funeral, instead of a massive open service. Instead, fans have organized numerous memorials around the globe for the frontman, who hanged himself just over a week ago.Fittingly, all funeral attendees had to have wrist bands and an access pass -- similar to most concert VIP passes.Chester was 41. #RIP\n",
      "\n",
      "Chester Bennington ﻿will be celebrated far and wide by Linkin Park fans who want to pay their final respects ... and the band's completely on board.Linkin Park's Mike Shinoda tweeted a link telling fans about a monumental effort to pay tribute to Chester all over the world -- in L.A., NYC, Vancouver, Paris, Copenhagen, Japan and beyond.TMZ broke the story ... Chester's family wants a private memorial, but is fully aware fans also want to properly say goodbye. And now they can. LPFanCorner is spearheading the public memorial.The group put together a full list of memorials around the world. In fact ... some will be held at venues where the band was supposed to play before canceling its tour.Still unclear if band members will attend any of the events.\n",
      "\n",
      "Chester Bennington's wife, Talinda, says her family's life went from \"fairytale\" to \"sick Shakespearean tragedy\" since her husband's suicide a week ago.Talinda released a statement, saying ... \"How do I move on? How do I pick up my shattered soul? The only answer I know is to raise our babies with every ounce of love I have left. I want to let my community and the fans worldwide know that we feel your love. We feel your loss as well. My babies are so young to have lost their daddy.\"Chester, who has 3 kids with Talinda, hanged himself in the family's new Rancho Palos Verdes Estates home.Talinda says she lost her soulmate and her kids lost their hero. Talinda also asks that fans help keep his memory alive as he's now \"pain free singing his songs in all of our hearts.\"She also asks fans to turn to one another when they're in pain, and adds, \"Chester would've wanted us to do so.\"\n",
      "\n",
      "Chester Bennington's family wants to keep his funeral a close family and friends affair.Sources close to the late Linkin Park frontman tell TMZ ... the family wants to keep the memorial intimate -- and while they're aware fans want to pay their respects ... the plan, for now, is a private ceremony. We're told the family just hasn't figured out how to give fans their moment to honor Chester.As for Chester's final resting place -- we're told the family's not jumping at the offer to take the plot next to Chris Cornell at Hollywood Forever Cemetery because it's in such a public space.\n",
      "\n",
      "Chester Bennington's death investigation has turned up no obvious signs of drug use ... TMZ has learned.Law enforcement sources tell us investigators found no illegal drugs or prescription drugs while searching the home following Chester's suicide. As we reported ... there was a partially drunk bottle of alcohol in the bedroom where he was found hanging.The Linkin Park frontman was open about his drug abuse issues -- acid, meth, crack and more. His bandmates were well aware of his demons, and he credited his bandmates for staging an intervention.It's unclear if Chester had any drugs in his system at the time of death. Toxicology results are pending.\n",
      "\n",
      "Chester Bennington bought his new family home about 2 months before he hanged himself there ... adding another layer of mystery to his death.The Linkin Park frontman bought the Palos Verdes Estates house for $2.5 million back in June. The 5 bedroom, 4 bathroom house is in an affluent part of L.A. County famous for pristine neighborhoods and an excellent public school system.Everything about the 3,956 square foot pad says family home -- special nook perfect for game night, 3 outdoor decks, an expansive backyard with a spa and swimming pool.The purchase falls in line with what Chester's LP bandmates said -- that he'd spoken excitedly about future plans. Buying the perfect place for his family, but then taking his life there a month later just doesn't add up.The Benningtons closed on the house 8 days after Chris Cornell's suicide ... leading some close friends to believe Chester's suicide decision was sudden and fueled by his grief.\n",
      "\n",
      "Chester Bennington's housekeeper cried and screamed in the background as a driver for the Linkin Park frontman made the 911 call to report his suicide.Cops just released the 911 call made by the driver, who was most likely there to pick up Chester for a scheduled photo shoot. He told the operator, \"I just got to the location and his housekeeper came out and said he killed himself ... he hung himself.\"As the driver relayed more details, the housekeeper was absolutely distraught in the background ... crying hysterically as she spoke to Chester's wife on another phone.TMZ broke the story ... Bennington hanged himself in his bedroom, in an eerily similar way to his friend, Chris Cornell. Chester's family was out of town, and Thursday morning the housekeeper found his body.\n",
      "\n",
      "Chester Bennington's bandmates are remembering him for his musical talent ... and also the demons that ultimately led to his suicide.Linkin Park posted an open letter to Chester in which they thank the fans for the outpouring of love and support, and say of the singer ... \"You touched so many lives, maybe even more than you realized.\" It sounds like they didn't see any warning signs before Chester took his own life because they say, \"Talking with you about the years ahead together, your excitement was infectious.\"The band addressed their frontman's demons too -- \"You fearlessly put them on display, and in doing so, brought us together and taught us to be more human.\"https://t.co/CkwWKW25et pic.twitter.com/364B8vHRmf\n",
      "\n",
      "Chester Bennington's suicide -- and also Chris Cornell's -- has Gavin Rossdale wondering about what he describes as a \"bad scene\" in music right now.He and his band Bush performed Thursday night in Hammond, Indiana ... and addressed the crowd about what had happened earlier that day -- Linkin Park's frontman killing himself. As TMZ first reported ... Chester took his life in an eerily similar way to his dear friend Chris Cornell.Gavin talked about the last time he'd seen Chester -- singing \"Hallelujah\" at Cornell's funeral.It was obvious, he was struggling to make sense of the deaths, saying it was \"impossible to know what\" Chester was going through. Still, he tried to inspire his fans ... before launching into \"Glycerine.\"\n",
      "\n",
      "Linkin Park's Chester Bennington might get an eternal resting spot right next to his dear friend, Chris Cornell.TMZ has learned the burial plot beside Cornell at the Hollywood Forever Cemetery is available ... and a source at the cemetery tells us they expect Chester's family to call about buying it.Chester was very close with the Soundgarden frontman ... he performed \"Hallelujah\" at his funeral, and had a difficult time coping with his death.We broke the story ... Bennington may have mimicked Cornell's suicide -- they died in eerily similar ways. Bennington also killed himself on what would have been Chris' 53rd birthday.\n",
      "\n",
      "Chester Bennington's wife was seen out in public for the first time since her husband's suicide, and got a comforting hug.Talinda Ann Bentley visited a local market in Palos Verdes, CA Friday with her daughter and another young girl. She was holding hands with one of her daughters ... it's unclear who the girl is hugging Talinda.Bennington died at their home in Palos Verdes Estates Thursday from hanging himself. His family was out of town at the time.\n",
      "\n",
      "Linkin Park ﻿has officially canceled its North American tour ... TMZ has learned.The cancellation comes just a day after frontman Chester Bennington committed suicide at his Palos Verdes Estates home. The band's rep told us immediately following the news, the group was so devastated they couldn't think about the tour's future, which was set to kick off next week.But now it's official -- the tour's a no-go ... and Live Nation tells us refunds will be available to fans.Chester was 41.\n",
      "\n",
      "Linkin Park's impending tour has obviously hit a wall -- and we're told the band has not yet made a decision on whether to pull the plug in the wake of Chester Bennington's suicide.The \"One More Light\" world tour is set to kick off next week in Mansfield, Massachusetts. A rep for the band tells us the guys are so devastated they can't think clearly enough to make a decision.The Xfinity Center in Mansfield is fielding hundreds of calls from ticketholders, who are being told to \"standby.\"Fans might not have to wait long ... we're told the decision will likely come today.Stay tuned ...\n",
      "\n",
      "Chester Bennington may have mimicked the suicide of his close friend, Chris Cornell, because they died in virtually identical ways.Law enforcement sources tell us, the Linkin Park singer was found hanging from a door separating his bedroom from his closet. TMZ broke the story, Chris Cornell died hanging from a hotel door separating the bedroom from the bathroom.We're also told Chester was found with a belt around his neck. Chris was found with an exercise band around his neck.Our sources say there was a partially empty bottle of alcohol in the room where Chester died, but no evidence of drugs.And we're told Chester did not leave a suicide note in the room. Neither did Chris.TMZ broke the story ... Chester killed himself on Thursday, which would have been Chris Cornell's 53rd birthday.\n",
      "\n",
      "Even the guy who plays \"Take Me Out to the Ball Game\" at Dodgers Stadium was affected by the death of Chester Bennington ... and honored the Linkin Park singer with a musical tribute on the stadium organ.Just before the Dodgers took the field against the Braves, team organist Dieter Ruehle played his own version of \"Numb\" over the loudspeakers.That's not all ... during the game Dodgers pitcher Brandon McCarthy used LP's \"Figure.09\" as his walkout music when he took the field.While Chester was from Arizona, the band was especially big in L.A. -- where the founding members are from.\n",
      "\n",
      "Joe Hahn -- the DJ for Linkin Park -- just showed up at Chester Bennington's home, and fans are beginning to flock there too.Several friends and family member were arriving at the house Thursday afternoon in Palos Verdes Estates, CA. Some fans have left flowers at the end of the driveway.As we reported ... Bennington's suicide was a shock to his bandmates, because the group had a photo shoot planned just hours after he was found dead in his home from hanging himself.Linkin Park coincidentally released a music video the morning of Chester's suicide.\n",
      "\n",
      "Chester Bennington's suicide was a shock to bandmates, because the group had plans for a photo shoot in Hollywood just hours after the Linkin Park singer was found hanging at his home.Multiple sources tell us ... Chester hanged himself in his bedroom. His body was discovered shortly before 9 AM PT Thursday by a housekeeper.We're told Chester arrived back in L.A. Wednesday from Arizona, where he and his wife were spending time. She stayed in AZ, but his return suggests the singer took his life Wednesday night or early Thursday morning.Our sources say one of his bandmates showed up at Chester's Palos Verdes Estates home shortly after police arrived. He said he was driving Chester to the photo shoot and was \"absolutely shocked.\"The band also has plans to tour in 1 week, which made the suicide all the more shocking.TMZ broke the story of Chester's suicide, and that he was profoundly affected by the suicide by hanging of his close friend, Chris Cornell. By the way, today would have been Cornell's 53rd birthday.\n",
      "\n",
      "12:32 PM PT -- Law enforcement sources tell TMZ Bennington was home alone at the time of the suicide. We're told his family was out of town and he was found upstairs by an employee.Linkin Park singer Chester Bennington has committed suicide ... TMZ has learned.Law enforcement sources tell us the singer hanged himself at a private residence in Palos Verdes Estates in L.A. County. His body was discovered Thursday just before 9 AM.Chester was married with 6 children from 2 wives.The singer struggled with drugs and alcohol for years. He had said in the past he had considered committing suicide because he had been abused as a child by an older male.Chester was very close with Chris Cornell, who himself committed suicide by hanging in May. Today would have been Cornell's 53rd birthday. Chester wrote an open letter to Chris on the day of Chris' suicide.Cornell's wife, Vicky, tweeted out a message following the news of Chester's death, saying, \"Just when I thought my heart couldn't break any more ... I love you T.\"The band has had a string of hits over the years, including \"Faint,\" \"In the End\" and \"Crawling.\" Linkin Park crossed music genres, collaborating with Jay-Z.The band's album, \"Meteora,\" was one of the biggest alternative albums in music history.Bennington was 41.RIP\n",
      "\n",
      "Musicians from all genres and several other celebs were stunned by the sudden, devastating news that Linkin Park lead singer Chester Bennington had committed suicide, and his own bandmates also tweeted their shock.TMZ broke the story ... Chester hanged himself Thursday morning at a private residence in Palos Verdes Estates. The news of Chester's death comes on what would've been Chris Cornell's 53rd birthday. Cornell and Bennington were close friends, with Bennington even performing at Cornell's funeral in May.Bandmate Mike Shinoda tweeted an official statement would be coming from Linkin Park soon.Bennington is survived by 6 kids. He was 41.Just when I thought my heart couldn't break any more.....I love you TOh dear God. Massive R.I.P to Chester Bennington of @linkinpark this BREAKS OUR HEART. Suicide is the devil on earth walking amongst us 😞Chester was one of the kindest men I've had on my show. My heart breaks for his family and friends. He will be missed terribly.RIP Chester. Tragic ending. Condolences his family and friends and Linkin Park 🙏🏾Oh dear God. Massive R.I.P to Chester Bennington of @linkinpark this BREAKS OUR HEART. Suicide is the devil on earth walking amongst us 😞Thoughts & prayers to the family, friends & band of Chester Bennington...such a sweet soul and incredible talent, heartbroken againSaddened to learn about the passing of the talented Chester Bennington from Linkin Park. My heart breaks for his family and children.song of the day: NUMB - LINKIN PARK pic.twitter.com/7itrfa0Sz6Crazy sad news about Chester Bennington.. #linkinpark #RIP If you or someone you know is struggling to cope, @800273TALKI'm devastated. I don't even know what to say. My thoughts and prayer are with the big Linkin… https://t.co/b0z2CEBKhiRIP Chester Bennington. Another great gone too soon. If you're hurting, struggling or just need some 1 to talk to. Reach out. 🙏🏼My heart is shattered. I can't fucking believe this is real. Crying writing this now. Destroyed. pic.twitter.com/MeEBJD9gi3RIP Chester pic.twitter.com/hqmUof3APWMental health is no joke. We have to destigmatize the conversation around it.RIP CHESTER BENNINGTON. We can never know someone's pain. Prayers to his family in this tragedy. If you need help REACH OUT. @RollingStone pic.twitter.com/DmtWrHNgeYGracious, kind & humble. A rare combination in Rock & Roll. Deeply saddened... pic.twitter.com/cVtNEzrjHDShocked about the news of Chester Bennington’s death. I have played shows with him recently..I will miss him & his great talent very much.\n",
      "\n",
      "Linkin Park released a new music video on the same day frontman Chester Bennington committed suicide.The American rock band released its \"Talking To Myself\" video at 9:01 AM ... minutes after Chester's body was discovered Thursday at a private residence in Palos Verdes Estates.The single off the band's \"One More Light\" album was released a while back but the video just hit the band's Twitter page and YouTube channel.TMZ broke the story ... Chester hanged himself on the day his good friend, Chris Cornell, would have turned 53. Chester was 41.\n",
      "\n"
     ]
    }
   ],
   "source": [
    "for i in range(len(km.labels_)):\n",
    "    if km.labels_[i] == 7:\n",
    "        print(article_list[i])\n",
    "        print()"
   ]
  },
  {
   "cell_type": "markdown",
   "metadata": {
    "collapsed": false
   },
   "source": [
    "### Clustering Visualizations"
   ]
  },
  {
   "cell_type": "markdown",
   "metadata": {
    "collapsed": false
   },
   "source": [
    "Let's also visualize the clusters. We'll visualize the clusters using a TSNE plot. (It may take a while to run because this is computationally intensive). The TSNE plot is a dimensionality reduction technique similar to PCA, but it always produces a 2 dimensional separation, in contrast to PCA which can produce many different components:"
   ]
  },
  {
   "cell_type": "code",
   "execution_count": 8,
   "metadata": {
    "collapsed": false
   },
   "outputs": [
   ],
   "source": [
    "tsne = manifold.TSNE(n_components=2, init='pca', random_state=0,  method='exact')\n",
    "Y = tsne.fit_transform(X)"
   ]
  },
  {
   "cell_type": "code",
   "execution_count": 0,
   "metadata": {
    "collapsed": false
   },
   "outputs": [
   ],
   "source": [
   ]
  },
  {
   "cell_type": "markdown",
   "metadata": {
    "collapsed": false
   },
   "source": [
    "If we plotted this as is, then all of the points would be in blue:"
   ]
  },
  {
   "cell_type": "code",
   "execution_count": 9,
   "metadata": {
    "collapsed": false
   },
   "outputs": [
    {
     "data": {
      "text/plain": [
       "Text(0.5, 1.0, 't-SNE')"
      ]
     },
     "execution_count": 9,
     "metadata": {
     },
     "output_type": "execute_result"
    },
    {
     "data": {
      "image/png": "[encoded data removed]",
      "text/plain": [
       "<Figure size 1080x576 with 1 Axes>"
      ]
     },
     "execution_count": 9,
     "metadata": {
      "image/png": {
       "height": 481,
       "width": 879
      }
     },
     "output_type": "execute_result"
    }
   ],
   "source": [
    "fig = plt.figure(figsize=(15, 8))\n",
    "\n",
    "plt.scatter(Y[:, 0], Y[:, 1])\n",
    "\n",
    "plt.title(\"t-SNE\")"
   ]
  },
  {
   "cell_type": "markdown",
   "metadata": {
    "collapsed": false
   },
   "source": [
    "We would like different clusters to be labeled different colors. Therefore, we will first create a color key:"
   ]
  },
  {
   "cell_type": "code",
   "execution_count": 10,
   "metadata": {
    "collapsed": false
   },
   "outputs": [
   ],
   "source": [
    "color = []\n",
    "for i in range(len(km.labels_)):\n",
    "    if km.labels_[i] == 0:\n",
    "        color.append('orange')\n",
    "    elif km.labels_[i] == 1:\n",
    "        color.append('tab:gray') # tab stands for tableau colors - these are other colors built in\n",
    "    elif km.labels_[i] == 2:\n",
    "        color.append('tab:olive') \n",
    "    elif km.labels_[i] == 3:\n",
    "        color.append('tab:purple')\n",
    "    elif km.labels_[i] == 4:\n",
    "        color.append('tab:red')\n",
    "    elif km.labels_[i] == 5:\n",
    "        color.append('tab:green')\n",
    "    elif km.labels_[i] == 6:\n",
    "        color.append('tab:blue')\n",
    "    elif km.labels_[i] == 7:\n",
    "        color.append('tab:cyan')\n",
    "    elif km.labels_[i] == 8:\n",
    "        color.append('k')      \n",
    "    elif km.labels_[i] == 9:\n",
    "        color.append('red')        \n",
    "        "
   ]
  },
  {
   "cell_type": "markdown",
   "metadata": {
    "collapsed": false
   },
   "source": [
    "Then, we can apply color coding to our plot:"
   ]
  },
  {
   "cell_type": "code",
   "execution_count": 11,
   "metadata": {
    "collapsed": false
   },
   "outputs": [
    {
     "data": {
      "text/plain": [
       "Text(0.5, 1.0, 't-SNE')"
      ]
     },
     "execution_count": 11,
     "metadata": {
     },
     "output_type": "execute_result"
    },
    {
     "data": {
      "image/png": "[encoded data removed]",
      "text/plain": [
       "<Figure size 1080x576 with 1 Axes>"
      ]
     },
     "execution_count": 11,
     "metadata": {
      "image/png": {
       "height": 481,
       "width": 879
      }
     },
     "output_type": "execute_result"
    }
   ],
   "source": [
    "fig = plt.figure(figsize=(15, 8))\n",
    "\n",
    "plt.scatter(Y[:, 0], Y[:, 1], c=color, cmap=plt.cm.Spectral)\n",
    "plt.title(\"t-SNE\")"
   ]
  },
  {
   "cell_type": "markdown",
   "metadata": {
    "collapsed": false
   },
   "source": [
    "### d3 scatterplots\n",
    "On the above plot, it is not easy to see which color corresponds to which set of articles. Let's use d3 to do this instead. [d3](https://d3js.org/) is an extremely powerful tool for doing visualizations. It uses JavaScript which is a language used for web development, but you can usually just copy and paste others' code and just make tiny tweaks in order to plot what you need even if you don't know JavaScript.\n",
    "\n",
    "First, let's create celeb categories for the articles that contain article themes that we'll be interested in:"
   ]
  },
  {
   "cell_type": "code",
   "execution_count": 12,
   "metadata": {
    "collapsed": false
   },
   "outputs": [
   ],
   "source": [
    "celeb_categories = ['other' for i in range(len(article_list))]\n",
    "\n",
    "for i in range(len(article_list)):\n",
    "    if any(substring in article_list[i].lower() for substring in ['chyna ', 'ferrari ']):\n",
    "        celeb_categories[i] = 'rob & chyna'\n",
    "    elif any(substring in article_list[i].lower() for substring in ['kim ', 'kanye ']):\n",
    "        celeb_categories[i] = 'kim & kanye'\n",
    "    elif any(substring in article_list[i].lower() for substring in ['bieb',]):\n",
    "        celeb_categories[i] = 'justin bieber'\n",
    "    elif any(substring in article_list[i].lower() for substring in ['trump ', 'president ', 'donald ','prez ', 'scaramucci']):\n",
    "        celeb_categories[i] = 'trump'\n",
    "    elif any(substring in article_list[i].lower() for substring in ['corinne ', 'demario ', 'bachelor ']):\n",
    "        celeb_categories[i] = 'bachelor pool scandal'\n",
    "    elif any(substring in article_list[i].lower() for substring in ['floyd ', 'conor ' ,'mcgregor ', 'mayweather ']):\n",
    "        celeb_categories[i] = 'mcgregor mayweather fight'\n",
    "    elif any(substring in article_list[i].lower() for substring in ['chester ','cornell ' ,'bennington ', 'linkin ']):\n",
    "        celeb_categories[i] = 'chester & chris cornell suicides'\n",
    "    elif any(substring in article_list[i].lower() for substring in ['usher ', 'herpes ']):\n",
    "        celeb_categories[i] = 'usher herpes scandal'\n",
    "    elif any(substring in article_list[i].lower() for substring in ['cosby ']):\n",
    "        celeb_categories[i] = 'cosby trial'\n",
    "    elif any(substring in article_list[i].lower() for substring in ['o.j. ']):\n",
    "        celeb_categories[i] = 'o.j. simpson'"
   ]
  },
  {
   "cell_type": "markdown",
   "metadata": {
    "collapsed": false
   },
   "source": [
    "We can easily view how many of each type of article there are:"
   ]
  },
  {
   "cell_type": "code",
   "execution_count": 13,
   "metadata": {
    "collapsed": false
   },
   "outputs": [
    {
     "data": {
      "text/plain": [
       "Counter({'other': 1090,\n",
       "         'o.j. simpson': 31,\n",
       "         'usher herpes scandal': 11,\n",
       "         'trump': 109,\n",
       "         'kim & kanye': 55,\n",
       "         'rob & chyna': 48,\n",
       "         'bachelor pool scandal': 45,\n",
       "         'justin bieber': 38,\n",
       "         'chester & chris cornell suicides': 27,\n",
       "         'mcgregor mayweather fight': 32,\n",
       "         'cosby trial': 21})"
      ]
     },
     "execution_count": 13,
     "metadata": {
     },
     "output_type": "execute_result"
    }
   ],
   "source": [
    "Counter(celeb_categories)"
   ]
  },
  {
   "cell_type": "markdown",
   "metadata": {
    "collapsed": false
   },
   "source": [
    "Then, we'll need to create a csv file of the data that we want to plot. The x and y coordinates will be the same as in the TSNE plot above. We'll also store each x and y point along with its category label and original article. We'll write this DataFrame to a csv file called \"d3_scatterplot/celebdata.csv\"."
   ]
  },
  {
   "cell_type": "code",
   "execution_count": 14,
   "metadata": {
    "collapsed": false
   },
   "outputs": [
   ],
   "source": [
    "xpoints = [Y[i, 0] for i in range(len(article_list))]\n",
    "ypoints = [Y[i, 1] for i in range(len(article_list))]\n",
    "\n",
    "\n",
    "df = pd.DataFrame(\n",
    "    {\n",
    "    'article': article_list,\n",
    "    'celeb': celeb_categories,\n",
    "    'x': xpoints,\n",
    "    'y': ypoints\n",
    "    })\n",
    "\n",
    "df = df[df['celeb']!= 'other']\n",
    "df.shape\n",
    "df.to_csv(path_or_buf = 'd3_scatterplot/celebdata.csv', index = False, header = ['article', 'celeb', 'x', 'y'])"
   ]
  },
  {
   "cell_type": "markdown",
   "metadata": {
    "collapsed": false
   },
   "source": [
    "Now, open up a new terminal. \n",
    "\n",
    "Change directories INTO d3_scatterplot (then type pwd to confirm you are where you should be).\n",
    "\n",
    "Now type ```python3 -m http.server``` and press enter. This is making your local computer act as a server (which is needed to view the d3 plot). \n",
    "\n",
    "Notice that inside this folder is a file called index.html. \n",
    "\n",
    "Your terminal should give some sort of output like ```Serving HTTP on 0.0.0.0 port 8000 (http://0.0.0.0:8000/) ...``` Open up a web browser and type in that address followed by the index.html name. For example, it will probably be ```http://0.0.0.0:8000/index.html```\n",
    "\n",
    "You should now see your d3 plot. If you hover over a point, the corresponding article text should pop up. Do some exploring and you will see that the points we color coded ourselves (corresponding to articles containing words like \"Cosby\", \"Kanye\", etc.) are clustered together nicely by the TSNE algorithms that was not provided any information from us except for the original corpus of articles. Pretty cool!!! \n",
    "\n",
    "You are also able to zoom in and out of the plot. If you'd like to see more of the JavaScript code that is making this super cool plot, open up the scatter.js file that is located within the d3_scatterplot directory."
   ]
  },
  {
   "cell_type": "markdown",
   "metadata": {
    "collapsed": false
   },
   "source": [
    "### d3 Word Clouds\n",
    "\n",
    "Another type of plot besides a scatterplot that you can create with d3 is a word cloud in which the size of the word is related to the frequency of the word. \n",
    "\n",
    "First, we'll create a DataFrame in which each row corresponds to a word and each column corresponds to a 1 if that word appears in a given article number:"
   ]
  },
  {
   "cell_type": "code",
   "execution_count": 15,
   "metadata": {
    "collapsed": false
   },
   "outputs": [
    {
     "data": {
      "text/html": [
       "<div>\n",
       "<style scoped>\n",
       "    .dataframe tbody tr th:only-of-type {\n",
       "        vertical-align: middle;\n",
       "    }\n",
       "\n",
       "    .dataframe tbody tr th {\n",
       "        vertical-align: top;\n",
       "    }\n",
       "\n",
       "    .dataframe thead th {\n",
       "        text-align: right;\n",
       "    }\n",
       "</style>\n",
       "<table border=\"1\" class=\"dataframe\">\n",
       "  <thead>\n",
       "    <tr style=\"text-align: right;\">\n",
       "      <th></th>\n",
       "      <th>0</th>\n",
       "      <th>1</th>\n",
       "      <th>2</th>\n",
       "      <th>3</th>\n",
       "      <th>4</th>\n",
       "      <th>5</th>\n",
       "      <th>6</th>\n",
       "      <th>7</th>\n",
       "      <th>8</th>\n",
       "      <th>9</th>\n",
       "      <th>...</th>\n",
       "      <th>1497</th>\n",
       "      <th>1498</th>\n",
       "      <th>1499</th>\n",
       "      <th>1500</th>\n",
       "      <th>1501</th>\n",
       "      <th>1502</th>\n",
       "      <th>1503</th>\n",
       "      <th>1504</th>\n",
       "      <th>1505</th>\n",
       "      <th>1506</th>\n",
       "    </tr>\n",
       "    <tr>\n",
       "      <th>word</th>\n",
       "      <th></th>\n",
       "      <th></th>\n",
       "      <th></th>\n",
       "      <th></th>\n",
       "      <th></th>\n",
       "      <th></th>\n",
       "      <th></th>\n",
       "      <th></th>\n",
       "      <th></th>\n",
       "      <th></th>\n",
       "      <th></th>\n",
       "      <th></th>\n",
       "      <th></th>\n",
       "      <th></th>\n",
       "      <th></th>\n",
       "      <th></th>\n",
       "      <th></th>\n",
       "      <th></th>\n",
       "      <th></th>\n",
       "      <th></th>\n",
       "      <th></th>\n",
       "    </tr>\n",
       "  </thead>\n",
       "  <tbody>\n",
       "    <tr>\n",
       "      <th>AM</th>\n",
       "      <td>0</td>\n",
       "      <td>0</td>\n",
       "      <td>0</td>\n",
       "      <td>0</td>\n",
       "      <td>0</td>\n",
       "      <td>0</td>\n",
       "      <td>0</td>\n",
       "      <td>0</td>\n",
       "      <td>0</td>\n",
       "      <td>0</td>\n",
       "      <td>...</td>\n",
       "      <td>0</td>\n",
       "      <td>0</td>\n",
       "      <td>0</td>\n",
       "      <td>0</td>\n",
       "      <td>0</td>\n",
       "      <td>0</td>\n",
       "      <td>1</td>\n",
       "      <td>0</td>\n",
       "      <td>0</td>\n",
       "      <td>0</td>\n",
       "    </tr>\n",
       "    <tr>\n",
       "      <th>Aaron</th>\n",
       "      <td>0</td>\n",
       "      <td>0</td>\n",
       "      <td>0</td>\n",
       "      <td>0</td>\n",
       "      <td>0</td>\n",
       "      <td>0</td>\n",
       "      <td>0</td>\n",
       "      <td>0</td>\n",
       "      <td>0</td>\n",
       "      <td>0</td>\n",
       "      <td>...</td>\n",
       "      <td>0</td>\n",
       "      <td>0</td>\n",
       "      <td>0</td>\n",
       "      <td>0</td>\n",
       "      <td>0</td>\n",
       "      <td>0</td>\n",
       "      <td>0</td>\n",
       "      <td>0</td>\n",
       "      <td>0</td>\n",
       "      <td>0</td>\n",
       "    </tr>\n",
       "    <tr>\n",
       "      <th>According</th>\n",
       "      <td>0</td>\n",
       "      <td>0</td>\n",
       "      <td>0</td>\n",
       "      <td>0</td>\n",
       "      <td>0</td>\n",
       "      <td>0</td>\n",
       "      <td>0</td>\n",
       "      <td>0</td>\n",
       "      <td>0</td>\n",
       "      <td>0</td>\n",
       "      <td>...</td>\n",
       "      <td>0</td>\n",
       "      <td>0</td>\n",
       "      <td>0</td>\n",
       "      <td>0</td>\n",
       "      <td>0</td>\n",
       "      <td>0</td>\n",
       "      <td>0</td>\n",
       "      <td>0</td>\n",
       "      <td>0</td>\n",
       "      <td>0</td>\n",
       "    </tr>\n",
       "    <tr>\n",
       "      <th>After</th>\n",
       "      <td>0</td>\n",
       "      <td>0</td>\n",
       "      <td>0</td>\n",
       "      <td>0</td>\n",
       "      <td>0</td>\n",
       "      <td>0</td>\n",
       "      <td>0</td>\n",
       "      <td>0</td>\n",
       "      <td>0</td>\n",
       "      <td>0</td>\n",
       "      <td>...</td>\n",
       "      <td>0</td>\n",
       "      <td>0</td>\n",
       "      <td>0</td>\n",
       "      <td>0</td>\n",
       "      <td>0</td>\n",
       "      <td>0</td>\n",
       "      <td>0</td>\n",
       "      <td>0</td>\n",
       "      <td>0</td>\n",
       "      <td>0</td>\n",
       "    </tr>\n",
       "    <tr>\n",
       "      <th>Air</th>\n",
       "      <td>0</td>\n",
       "      <td>0</td>\n",
       "      <td>0</td>\n",
       "      <td>0</td>\n",
       "      <td>0</td>\n",
       "      <td>0</td>\n",
       "      <td>0</td>\n",
       "      <td>0</td>\n",
       "      <td>0</td>\n",
       "      <td>0</td>\n",
       "      <td>...</td>\n",
       "      <td>0</td>\n",
       "      <td>0</td>\n",
       "      <td>0</td>\n",
       "      <td>0</td>\n",
       "      <td>0</td>\n",
       "      <td>0</td>\n",
       "      <td>0</td>\n",
       "      <td>0</td>\n",
       "      <td>0</td>\n",
       "      <td>0</td>\n",
       "    </tr>\n",
       "  </tbody>\n",
       "</table>\n",
       "<p>5 rows × 1507 columns</p>\n",
       "</div>"
      ],
      "text/plain": [
       "           0     1     2     3     4     5     6     7     8     9     ...  \\\n",
       "word                                                                   ...   \n",
       "AM            0     0     0     0     0     0     0     0     0     0  ...   \n",
       "Aaron         0     0     0     0     0     0     0     0     0     0  ...   \n",
       "According     0     0     0     0     0     0     0     0     0     0  ...   \n",
       "After         0     0     0     0     0     0     0     0     0     0  ...   \n",
       "Air           0     0     0     0     0     0     0     0     0     0  ...   \n",
       "\n",
       "           1497  1498  1499  1500  1501  1502  1503  1504  1505  1506  \n",
       "word                                                                   \n",
       "AM            0     0     0     0     0     0     1     0     0     0  \n",
       "Aaron         0     0     0     0     0     0     0     0     0     0  \n",
       "According     0     0     0     0     0     0     0     0     0     0  \n",
       "After         0     0     0     0     0     0     0     0     0     0  \n",
       "Air           0     0     0     0     0     0     0     0     0     0  \n",
       "\n",
       "[5 rows x 1507 columns]"
      ]
     },
     "execution_count": 15,
     "metadata": {
     },
     "output_type": "execute_result"
    }
   ],
   "source": [
    "cv = CountVectorizer(stop_words='english', \n",
    "                        token_pattern=\"\\\\b[a-zA-Z][a-zA-Z]+\\\\b\", \n",
    "                        min_df=10, lowercase = False)\n",
    "\n",
    "X = cv.fit_transform(article_list)\n",
    "\n",
    "df = pd.DataFrame(X.toarray(), columns=cv.get_feature_names())\n",
    "df = df.transpose()\n",
    "df.index.name = 'word'\n",
    "df.head()"
   ]
  },
  {
   "cell_type": "markdown",
   "metadata": {
    "collapsed": false
   },
   "source": [
    "We will then create a series in that will contain the total frequency count of each word in all the documents:"
   ]
  },
  {
   "cell_type": "code",
   "execution_count": 16,
   "metadata": {
    "collapsed": false
   },
   "outputs": [
    {
     "data": {
      "text/html": [
       "<div>\n",
       "<style scoped>\n",
       "    .dataframe tbody tr th:only-of-type {\n",
       "        vertical-align: middle;\n",
       "    }\n",
       "\n",
       "    .dataframe tbody tr th {\n",
       "        vertical-align: top;\n",
       "    }\n",
       "\n",
       "    .dataframe thead th {\n",
       "        text-align: right;\n",
       "    }\n",
       "</style>\n",
       "<table border=\"1\" class=\"dataframe\">\n",
       "  <thead>\n",
       "    <tr style=\"text-align: right;\">\n",
       "      <th></th>\n",
       "      <th>freq</th>\n",
       "    </tr>\n",
       "    <tr>\n",
       "      <th>word</th>\n",
       "      <th></th>\n",
       "    </tr>\n",
       "  </thead>\n",
       "  <tbody>\n",
       "    <tr>\n",
       "      <th>AM</th>\n",
       "      <td>70</td>\n",
       "    </tr>\n",
       "    <tr>\n",
       "      <th>Aaron</th>\n",
       "      <td>59</td>\n",
       "    </tr>\n",
       "    <tr>\n",
       "      <th>According</th>\n",
       "      <td>108</td>\n",
       "    </tr>\n",
       "    <tr>\n",
       "      <th>After</th>\n",
       "      <td>21</td>\n",
       "    </tr>\n",
       "    <tr>\n",
       "      <th>Air</th>\n",
       "      <td>12</td>\n",
       "    </tr>\n",
       "  </tbody>\n",
       "</table>\n",
       "</div>"
      ],
      "text/plain": [
       "           freq\n",
       "word           \n",
       "AM           70\n",
       "Aaron        59\n",
       "According   108\n",
       "After        21\n",
       "Air          12"
      ]
     },
     "execution_count": 16,
     "metadata": {
     },
     "output_type": "execute_result"
    }
   ],
   "source": [
    "df['freq'] = df.sum(axis = 1)\n",
    "df = df[['freq']]\n",
    "df.head()"
   ]
  },
  {
   "cell_type": "markdown",
   "metadata": {
    "collapsed": false
   },
   "source": [
    "Upon closer inspection, there are still frequent words left that are kind of boring to put into a word cloud (for example, days of the week and location names). Let's remove these from words that we'll want to plot in our word cloud."
   ]
  },
  {
   "cell_type": "code",
   "execution_count": 17,
   "metadata": {
    "collapsed": false
   },
   "outputs": [
    {
     "data": {
      "text/html": [
       "<div>\n",
       "<style scoped>\n",
       "    .dataframe tbody tr th:only-of-type {\n",
       "        vertical-align: middle;\n",
       "    }\n",
       "\n",
       "    .dataframe tbody tr th {\n",
       "        vertical-align: top;\n",
       "    }\n",
       "\n",
       "    .dataframe thead th {\n",
       "        text-align: right;\n",
       "    }\n",
       "</style>\n",
       "<table border=\"1\" class=\"dataframe\">\n",
       "  <thead>\n",
       "    <tr style=\"text-align: right;\">\n",
       "      <th></th>\n",
       "      <th>freq</th>\n",
       "    </tr>\n",
       "    <tr>\n",
       "      <th>word</th>\n",
       "      <th></th>\n",
       "    </tr>\n",
       "  </thead>\n",
       "  <tbody>\n",
       "    <tr>\n",
       "      <th>Aaron</th>\n",
       "      <td>59</td>\n",
       "    </tr>\n",
       "    <tr>\n",
       "      <th>Air</th>\n",
       "      <td>12</td>\n",
       "    </tr>\n",
       "    <tr>\n",
       "      <th>Alex</th>\n",
       "      <td>19</td>\n",
       "    </tr>\n",
       "    <tr>\n",
       "      <th>Allen</th>\n",
       "      <td>18</td>\n",
       "    </tr>\n",
       "    <tr>\n",
       "      <th>Also</th>\n",
       "      <td>14</td>\n",
       "    </tr>\n",
       "  </tbody>\n",
       "</table>\n",
       "</div>"
      ],
      "text/plain": [
       "       freq\n",
       "word       \n",
       "Aaron    59\n",
       "Air      12\n",
       "Alex     19\n",
       "Allen    18\n",
       "Also     14"
      ]
     },
     "execution_count": 17,
     "metadata": {
     },
     "output_type": "execute_result"
    }
   ],
   "source": [
    "searchfor = ['the', 'he', 'we', 'according','he', 'it', 'as', 'she', 'in', 'thursday', 'monday', \n",
    "             'friday', 'saturday', 'they', 'wednesday', 'you', 'sunday', 'tuesday', 'sources', 'white', \n",
    "             'but', 'and', 'there', 'our', 'if', 'house', 'that', 'one', 'new', 'june', 'his', 'so', \n",
    "             'july', 'when', 'law', 'this', 'park', 'no', 'county', 'not', 'warner', 'august', 'for', \n",
    "             'america', 'still', 'london', 'center', 'bros', 'live', 'big', 'san', 'mr', 'april', 'what', \n",
    "             'dr', 'ball', 'atlanta', 'now', 'miami', 'city', 'at', 'york', 'on', 'my', 'october', 'here',\n",
    "             'florida', 'all', 'washington', 'just', 'february', 'march', 'california', 'while', 'however', \n",
    "             'state', 'of', 'malibu', 'king', 'jr', 'good', 'georgia',  'after', 'thinks',\n",
    "            'says', 'told', 'time', 'ca', 'ya', 'got', 'went', 'did', 'far', 'make', 'saying', 'said',\n",
    "            'want', 'looks', 'including', 'cut', 'gets', 'called','line', 'won',\n",
    "            'let', 'pm', 'am', 'felt', 'didn', 'wasn', 'left', 'close', 'obtained', \n",
    "            'including', 'came', 'close', 'pt', 'em', 'say', 'tells', 've', 'll',\n",
    "            'don', 'right', 'took', 'tell', 'day', 'near', 'lot', 'com', 'started',\n",
    "            'clear', 'morning', 'doesn', 'try', 'bit', 'months', 'sent', 'asked',\n",
    "            'ago', 'week', 'took', 'day', 'days', 'getting', 'know', 'isn', 'wouldn',\n",
    "            'month', 'think', 'like', 'year', 'wants', 'ran', 'end', 'saw', 'making', 'tried', 'taken', 'saw']\n",
    "\n",
    "df = df[~df.index.str.lower().isin(searchfor)]\n",
    "df.head()"
   ]
  },
  {
   "cell_type": "markdown",
   "metadata": {
    "collapsed": false
   },
   "source": [
    "We'll also only plot words that occur at least 20 times:"
   ]
  },
  {
   "cell_type": "code",
   "execution_count": 18,
   "metadata": {
    "collapsed": false
   },
   "outputs": [
    {
     "data": {
      "text/html": [
       "<div>\n",
       "<style scoped>\n",
       "    .dataframe tbody tr th:only-of-type {\n",
       "        vertical-align: middle;\n",
       "    }\n",
       "\n",
       "    .dataframe tbody tr th {\n",
       "        vertical-align: top;\n",
       "    }\n",
       "\n",
       "    .dataframe thead th {\n",
       "        text-align: right;\n",
       "    }\n",
       "</style>\n",
       "<table border=\"1\" class=\"dataframe\">\n",
       "  <thead>\n",
       "    <tr style=\"text-align: right;\">\n",
       "      <th></th>\n",
       "      <th>freq</th>\n",
       "    </tr>\n",
       "    <tr>\n",
       "      <th>word</th>\n",
       "      <th></th>\n",
       "    </tr>\n",
       "  </thead>\n",
       "  <tbody>\n",
       "    <tr>\n",
       "      <th>Aaron</th>\n",
       "      <td>59</td>\n",
       "    </tr>\n",
       "    <tr>\n",
       "      <th>Amber</th>\n",
       "      <td>54</td>\n",
       "    </tr>\n",
       "    <tr>\n",
       "      <th>American</th>\n",
       "      <td>52</td>\n",
       "    </tr>\n",
       "    <tr>\n",
       "      <th>Attorney</th>\n",
       "      <td>20</td>\n",
       "    </tr>\n",
       "    <tr>\n",
       "      <th>Awards</th>\n",
       "      <td>22</td>\n",
       "    </tr>\n",
       "  </tbody>\n",
       "</table>\n",
       "</div>"
      ],
      "text/plain": [
       "          freq\n",
       "word          \n",
       "Aaron       59\n",
       "Amber       54\n",
       "American    52\n",
       "Attorney    20\n",
       "Awards      22"
      ]
     },
     "execution_count": 18,
     "metadata": {
     },
     "output_type": "execute_result"
    }
   ],
   "source": [
    "df = df[df['freq'] >= 20]\n",
    "df.head()"
   ]
  },
  {
   "cell_type": "markdown",
   "metadata": {
    "collapsed": false
   },
   "source": [
    "We'll create a font size column that is related to the frequency of the word:"
   ]
  },
  {
   "cell_type": "code",
   "execution_count": 19,
   "metadata": {
    "collapsed": false
   },
   "outputs": [
    {
     "data": {
      "text/html": [
       "<div>\n",
       "<style scoped>\n",
       "    .dataframe tbody tr th:only-of-type {\n",
       "        vertical-align: middle;\n",
       "    }\n",
       "\n",
       "    .dataframe tbody tr th {\n",
       "        vertical-align: top;\n",
       "    }\n",
       "\n",
       "    .dataframe thead th {\n",
       "        text-align: right;\n",
       "    }\n",
       "</style>\n",
       "<table border=\"1\" class=\"dataframe\">\n",
       "  <thead>\n",
       "    <tr style=\"text-align: right;\">\n",
       "      <th></th>\n",
       "      <th>freq</th>\n",
       "      <th>size</th>\n",
       "    </tr>\n",
       "    <tr>\n",
       "      <th>word</th>\n",
       "      <th></th>\n",
       "      <th></th>\n",
       "    </tr>\n",
       "  </thead>\n",
       "  <tbody>\n",
       "    <tr>\n",
       "      <th>Aaron</th>\n",
       "      <td>59</td>\n",
       "      <td>26</td>\n",
       "    </tr>\n",
       "    <tr>\n",
       "      <th>Amber</th>\n",
       "      <td>54</td>\n",
       "      <td>25</td>\n",
       "    </tr>\n",
       "    <tr>\n",
       "      <th>American</th>\n",
       "      <td>52</td>\n",
       "      <td>25</td>\n",
       "    </tr>\n",
       "    <tr>\n",
       "      <th>Attorney</th>\n",
       "      <td>20</td>\n",
       "      <td>20</td>\n",
       "    </tr>\n",
       "    <tr>\n",
       "      <th>Awards</th>\n",
       "      <td>22</td>\n",
       "      <td>20</td>\n",
       "    </tr>\n",
       "  </tbody>\n",
       "</table>\n",
       "</div>"
      ],
      "text/plain": [
       "          freq  size\n",
       "word                \n",
       "Aaron       59    26\n",
       "Amber       54    25\n",
       "American    52    25\n",
       "Attorney    20    20\n",
       "Awards      22    20"
      ]
     },
     "execution_count": 19,
     "metadata": {
     },
     "output_type": "execute_result"
    }
   ],
   "source": [
    "maxfreq = df['freq'].max()\n",
    "minfreq = df['freq'].min()\n",
    "\n",
    "bigsize = 80\n",
    "smallsize = 20\n",
    "\n",
    "def font_size(freq):\n",
    "    size = (freq - minfreq) / (maxfreq-minfreq)\n",
    "    size = int((size * bigsize) + smallsize)\n",
    "    return size\n",
    "\n",
    "df['size'] = df['freq'].apply(font_size)\n",
    "df.head()"
   ]
  },
  {
   "cell_type": "markdown",
   "metadata": {
    "collapsed": false
   },
   "source": [
    "Now, we will write this to a file that d3 can use. This is the dataframe that will be stored in the CSV file \"d3_wordcloud/frequencies.csv\":"
   ]
  },
  {
   "cell_type": "code",
   "execution_count": 20,
   "metadata": {
    "collapsed": false
   },
   "outputs": [
    {
     "data": {
      "text/html": [
       "<div>\n",
       "<style scoped>\n",
       "    .dataframe tbody tr th:only-of-type {\n",
       "        vertical-align: middle;\n",
       "    }\n",
       "\n",
       "    .dataframe tbody tr th {\n",
       "        vertical-align: top;\n",
       "    }\n",
       "\n",
       "    .dataframe thead th {\n",
       "        text-align: right;\n",
       "    }\n",
       "</style>\n",
       "<table border=\"1\" class=\"dataframe\">\n",
       "  <thead>\n",
       "    <tr style=\"text-align: right;\">\n",
       "      <th></th>\n",
       "      <th>word</th>\n",
       "      <th>size</th>\n",
       "    </tr>\n",
       "    <tr>\n",
       "      <th>word</th>\n",
       "      <th></th>\n",
       "      <th></th>\n",
       "    </tr>\n",
       "  </thead>\n",
       "  <tbody>\n",
       "    <tr>\n",
       "      <th>Aaron</th>\n",
       "      <td>Aaron</td>\n",
       "      <td>26</td>\n",
       "    </tr>\n",
       "    <tr>\n",
       "      <th>Amber</th>\n",
       "      <td>Amber</td>\n",
       "      <td>25</td>\n",
       "    </tr>\n",
       "    <tr>\n",
       "      <th>American</th>\n",
       "      <td>American</td>\n",
       "      <td>25</td>\n",
       "    </tr>\n",
       "    <tr>\n",
       "      <th>Attorney</th>\n",
       "      <td>Attorney</td>\n",
       "      <td>20</td>\n",
       "    </tr>\n",
       "    <tr>\n",
       "      <th>Awards</th>\n",
       "      <td>Awards</td>\n",
       "      <td>20</td>\n",
       "    </tr>\n",
       "  </tbody>\n",
       "</table>\n",
       "</div>"
      ],
      "text/plain": [
       "              word  size\n",
       "word                    \n",
       "Aaron        Aaron    26\n",
       "Amber        Amber    25\n",
       "American  American    25\n",
       "Attorney  Attorney    20\n",
       "Awards      Awards    20"
      ]
     },
     "execution_count": 20,
     "metadata": {
     },
     "output_type": "execute_result"
    }
   ],
   "source": [
    "df['word'] = df.index\n",
    "df = df[['word', 'size']]\n",
    "df.to_csv(path_or_buf = 'd3_wordcloud/frequencies.csv', index = False, header = ['word','size'])\n",
    "df.head()"
   ]
  },
  {
   "cell_type": "markdown",
   "metadata": {
    "collapsed": false
   },
   "source": [
    "To view this wordcloud, if you are still in your terminal inside the d3_scatterplot directory, then type ```Control - C``` to stop serving up the scatterplot page. Navigate up one directory and then down into the d3_wordcloud directory: \n",
    "\n",
    "\n",
    "```cd ..``` \n",
    "\n",
    "```cd d3_wordcloud```\n",
    "\n",
    "Then, type ``python -m http.server``` once again and open up the webpage ```http://0.0.0.0:8000/index.html```."
   ]
  },
  {
   "cell_type": "markdown",
   "metadata": {
    "collapsed": false
   },
   "source": [
    "### Article Recommendations"
   ]
  },
  {
   "cell_type": "markdown",
   "metadata": {
    "collapsed": false
   },
   "source": [
    "Suppose we wanted to recommend users other articles based on articles they like. This should sound familiar to your Netflix work. Once again, we can do an SVD decomposition. Let's use the top 10 most significant latent features and find the 5 most similar articles to the Bachelor scandal below. The recommendations are spot on!"
   ]
  },
  {
   "cell_type": "code",
   "execution_count": 21,
   "metadata": {
    "collapsed": false
   },
   "outputs": [
    {
     "name": "stdout",
     "output_type": "stream",
     "text": [
      "Top 5 articles similar to Article #100: \"Bachelor In Paradise\" is hyping a one-on-one showdown between Corinne Olympios and DeMario Jackson, but it will actually be more like Michael Phelps' race against a great white shark.Sources close to production tell us Corinne and DeMario did NOT come face-to-face when the reunion show taped Saturday. While promoting the show, host Chris Harrison has said he'll be talking with both of them together ... insinuating he'd be mediating/refereeing.While fans would eat that up ... it ain't gonna happen. We're told DeMario came out for a solo sit-down with Harrison, but left before Corinne did her one-on-one. We're told neither were briefed on plans to be onstage at the same time.Our DeMario sources tell us he's no longer interested in seeing Corinne face-to-face to hash out the aftermath from their pool sex encounter -- mostly because he doesn't think she would be genuine. \n",
      "\n"
     ]
    },
    {
     "name": "stdout",
     "output_type": "stream",
     "text": [
      "Recommendation #1 Turns out controversial \"Bachelor In Paradise\" star DeMario Jackson may not be done with reality TV -- TMZ has learned producers are seriously considering him for a \"Dancing With the Stars\" slot.Sources close to production tell us the show reached out to DeMario's publicist weeks ago, which explains why he was already fully campaigning to be in the ballroom when we asked about it last week.We're told nothing's signed ... they're still negotiating, but hard to imagine a scenario where DeMario doesn't take this opportunity.DeMario didn't return to the 'BiP' set in Mexico following the oral sex controversy with Corinne Olympios that shut down production, but he will be on the reunion episode.\n",
      "\n",
      "Recommendation #2 \"Bachelor in Paradise\" has a new way of reeling in viewers ... tapping into the sex scandal that temporarily shipwrecked the show.Production sources tell TMZ, host Chris Harrison held a powwow with the cast on the first day back to film the show after the Warner Bros. probe concluded there was no sexual assault ... and the cameras were rolling as he took people back to the Corinne Olympios/DeMario Jackson sexual escapade in the pool.We're told Harrison dramatically recounted how a producer expressed concerns and it turned into a full blown scandal. After taking everyone through the investigation, he paused, then asked the cast if they were comfortable continuing, and gave them a chance to pack up and leave.To absolutely no one's surprise, everyone stayed, drank and even banged in the boom boom room.Lemonade ... it comes from lemons.\n",
      "\n",
      "Recommendation #3 DeMario Jackson is looking for answers, and thinks a 1-on-1 with Corinne Olympios could help him finally get some peace of mind ... but she's gotta make the first move.Sources close to the \"Bachelor in Paradise\" outcast tell TMZ ... he wants to chat with Corinne about her sexual assault claim. DeMario's telling friends he doesn't hold a grudge -- after being cleared by Warner Bros. -- especially since he's bound to see Corinne again with other 'Bachelor' alums.We're told DeMario was \"blindsided and confused\" when he heard she claimed to be a victim, because when they got sent home producers told him it was because a third party had a problem with their pool sexcapade -- not Corinne.DeMario assumed he and Corinne would move on and be friends since they got along so well the first day filming -- laughing, chatting and hooking up -- so he doesn't understand what changed.There's a catch -- we're also told DeMario's not going to reach out to Corinne. He feels the ball's in her court since she played the victim card ... but he'll drop everything to meet with her if she calls.\n",
      "\n",
      "Recommendation #4 Corinne Olympios' boyfriend knew exactly what he was signing up for when she decided to go on \"Bachelor in Paradise\" ... with one HUGE caveat.Sources close to the couple tell TMZ ... Corinne and her BF, Jordan Gielchinsky, agreed she would NOT hook up with other cast members, and was only going to do the show to get pub for her new clothing line. Her plan was to be on for a couple episodes, and then bow out.Of course, that plan went to crap on the first day of taping when DeMario Jackson and Corinne ended up \"rubbing, touching and fingering\" in the pool. We broke the story ... Warner Bros. shut down production, launched an investigation and sent the cast home.We're told Jordan was initially upset when he heard what went down, but once he got the full context of the event -- meaning the heavy drinking -- he backed Corinne. He agrees she was way too drunk to give consent, and strongly believes producers and medical staffers should have intervened.The couple's been inseparable in L.A. since she returned from Mexico.\n",
      "\n",
      "Recommendation #5 Production for 'Bachelor in Paradise' has been suspended after allegations of misconduct were reported ... which puts a halt to filming for the upcoming season indefinitely.Warner Bros. execs for the show said Sunday that they had been alerted to some sort of misconduct on the set of 'BiP', which is currently shooting in Mexico.As a result of the allegations -- which at this point have not been made public -- WB has put a temporary halt to the show and is now investigating. They've said they will also take appropriate action upon completing the investigation.This season of 'BiP' is highly anticipated, especially after Nick Viall's recent stint on 'The Bachelor.' Some of his axed ladies like Raven Gates, Corinne Olympios and Taylor Nolan were cast, as was Amanda Stanton from Ben Higgins' season. Some of the guys cast were Derek Peth, Nick Benvenutti, Ben Zorn and DeMario Jackson.\n",
      "\n",
      "Article numbers similar to article 100: [253, 756, 1080, 1271, 1426]\n"
     ]
    }
   ],
   "source": [
    "pipe = [('tfidf', TfidfVectorizer(stop_words='english', \n",
    "                        token_pattern=\"\\\\b[a-zA-Z][a-zA-Z]+\\\\b\", \n",
    "                        min_df=10)),\n",
    "        ('lsa', TruncatedSVD(n_components=10, random_state=99)),\n",
    "        ('normalizer', Normalizer())]\n",
    "\n",
    "pipeline = Pipeline(pipe)\n",
    "\n",
    "dtm_svd = pipeline.fit_transform(article_list)\n",
    "\n",
    "df = pd.DataFrame(dtm_svd.round(10), index=article_list)\n",
    "\n",
    "def get_article_recs(compare_sentence, df, num_recom):\n",
    "    recs = []\n",
    "    for sentence in range(df.shape[0]):\n",
    "        if sentence != compare_sentence:\n",
    "            recs.append((np.dot(df.iloc[compare_sentence],df.iloc[sentence]), sentence))\n",
    "    recs.sort(reverse = True)\n",
    "    final_rec = [recs[i][1] for i in range(num_recom)]\n",
    "    for i, rec in enumerate(final_rec):\n",
    "        print(f\"Recommendation #{i+1} {article_list[rec]}\\n\")\n",
    "    return final_rec\n",
    "\n",
    "article_number = 100\n",
    "num_of_recs = 5\n",
    "print(f\"Top {num_of_recs} articles similar to Article #{article_number}: {article_list[article_number]} \\n\")\n",
    "print(f\"Article numbers similar to article {article_number}: {get_article_recs(article_number,df,num_of_recs)}\")"
   ]
  },
  {
   "cell_type": "markdown",
   "metadata": {
    "collapsed": false
   },
   "source": [
    "What about the most similar articles to this Blac Chyna - Rob Kardashian breakup story?"
   ]
  },
  {
   "cell_type": "code",
   "execution_count": 22,
   "metadata": {
    "collapsed": false
   },
   "outputs": [
    {
     "name": "stdout",
     "output_type": "stream",
     "text": [
      "Top 5 articles similar to Article #22: Blac Chyna had the cops called on her after Rob's baby mama went ham over a roofer.It happened Tuesday morning at Chyna's L.A. home. She pitched a fit when a guy next door started pitching a roof at 9 AM. We're told Chyna confronted the homeowner, saying it was too damn early to start construction. She said the noise woke up little Dream, and that pissed her off.The neighbor claims Chyna went so ballistic she got scared and called the cops.We're told cops showed up and gave Chyna a free lesson about the law. In L.A., construction can fire up at 7 AM, so the roofer was well within his rights.Chyna calmed down, and cops beat it. \n",
      "\n",
      "Recommendation #1 Rob Kardashian's revenge against Blac Chyna -- posting pics of her vagina and breasts -- would seem to violate the revenge porn law ... but that doesn't seem to be the case.As we reported, Rob believed Chyna was cheating on him and he went on the warpath, not only posting the pics but after they were removed ... he reposted them.In California there's a 2013 law which states ... \"A person who intentionally distributes the image of the intimate body part of another ... knowing they'll cause emotional distress\" is guilty of a misdemeanor punishable by up to 6 months in jail.You would think it's a textbook case of revenge porn, but there's a rub. Chyna \"liked\" the pics on Instagram, so it's hard to argue she suffered emotional distress.What's more ... the law says in order to be convicted there must have been an understanding the images would remain private. \"Liking\" the pics does not seem consistent with keeping the pics private.And one more thing ... we're told the would-be victim -- Blac Chyna -- would never go to the cops and file a police report.\n",
      "\n",
      "Recommendation #2 Rob Kardashian and Blac Chyna are making new allegations of domestic violence against each other, and both claim the alleged incidents are captured on video.Chyna -- who's in court Monday morning for a domestic violence restraining order against Rob -- has already claimed Rob got physical with her.Sources connected with Chyna tell us she will add other claims, including one incident several months ago where she says Rob allegedly hit her and knocked her to the ground. She says she ran to her bedroom and he broke the door open. She supposedly has photos and videos of the incident.As for Rob, sources close to the situation say in December, the day Chyna moved out of the house she and Rob were sharing, she tried choking him with an iPhone cord and tried hitting him with a metal rod. The sources say Corey Gamble walked in and pulled Chyna off Rob. She then allegedly went through the house, smashing televisions, doors and other items, causing $35k in damage. The sources say Rob has surveillance video documenting the incident.We're also told Rob's lawyers have texts from the time Chyna moved out, in which she told a friend that Rob would never hit her. Our sources say they feel the messages help to vindicate Rob.\n",
      "\n",
      "Recommendation #3 Rob Kardashian's brutal rants against Blac Chyna showed her side piece the light -- and now Ferrari is kicking her to the curb too, and saving himself more than 100 grand in the process.Sources connected to the rapper, tell us Ferrari was hooked on Chyna ... so much so he dropped $135,648 on three pieces of jewelry for her:- $34,850 for a Rolex - $56,500 for a gold necklace- $32,250 for diamond earringsFerrari scooped up the booty back in June when he thought he and Chyna were the real deal -- she's even listed as \"spouse\" on the receipt. We're told they'd talked for a while about getting his and hers Rollies -- but after Rob accused BC of banging several dudes, Ferrari was done.We're told his manager, Keely the Boss, planned to deliver the gifts on July 5, but that's the day Rob unleashed his allegations. Ferrari immediately called off the delivery and returned everything on Friday.\n",
      "\n",
      "Recommendation #4 Blac Chyna's beefing up her personal security and got her former side piece banned from her upcoming club appearance ... because his recent actions are scaring her.Sources close to Chyna tell TMZ ... Ferrari won't be allowed in at the Medusa Restaurant & Lounge in Atlanta Saturday night, where Blac is scheduled to host a party. We're told  Chyna's hired 4 extra bodyguards for the night in case the rapper -- who hails from ATL -- shows up.Chyna's camp claims Ferrari's been calling and texting her the past week, and demands for him to stop the harassment having been blown off. We're told Chyna believes he's released revenge porn despite a letter warning him not to, and she also fears for her safety because he's acting obsessive and delusional. His interview with TMZ particularly scared her.The owner of Medusa, Lil Henny, tells us he will honor Chyna's ban request and make sure Ferrari is not allowed on the premises while she's working the joint.\n",
      "\n",
      "Recommendation #5 Rob Kardashian is deeply remorseful for slut shaming Blac Chyna ... at least that's what he told his family.Sources close to the situation tell TMZ ... Rob's spoken with all of his sisters and his mom, telling them he has no excuse for posting nude pics of Chyna and her medical information on social media. He said he regrets he didn't deal with the Chyna drama privately and said it wouldn't happen again.One thing Rob did not apologize for ... he flatly denied he ever physically abused Chyna.Rob also acknowledged all of the Kardashian women warned him Chyna was \"bad news\" and he should stay away ... advice he ignored. He told them they were right.He also said he stayed with Chyna longer than he should have because he grew up in a 2-parent household and wanted the same for Dream.We're told Rob and family have stayed quiet through the ordeal in an effort to stop the back and forth in the best interest of his daughter.We're told the women accepted his apology and are hopeful he'll heed their advice.\n",
      "\n",
      "Article numbers similar to article 22: [859, 751, 788, 611, 689]\n"
     ]
    }
   ],
   "source": [
    "article_number = 22\n",
    "num_of_recs = 5\n",
    "print(f\"Top {num_of_recs} articles similar to Article #{article_number}: {article_list[article_number]} \\n\")\n",
    "print(f\"Article numbers similar to article {article_number}: {get_article_recs(article_number,df,num_of_recs)}\")\n"
   ]
  },
  {
   "cell_type": "markdown",
   "metadata": {
    "collapsed": false
   },
   "source": [
    "### Twitter Sentiment Analysis\n",
    "\n",
    "For our last NLP celebrity application, let's determine who was the most positive and negative celebrity Tweeter. In the summer of 2017, I scraped all of the tweets from the 57 celebs located [here](https://friendorfollow.com/twitter/most-followers/)."
   ]
  },
  {
   "cell_type": "code",
   "execution_count": 23,
   "metadata": {
    "collapsed": false
   },
   "outputs": [
    {
     "data": {
      "text/html": [
       "<div>\n",
       "<style scoped>\n",
       "    .dataframe tbody tr th:only-of-type {\n",
       "        vertical-align: middle;\n",
       "    }\n",
       "\n",
       "    .dataframe tbody tr th {\n",
       "        vertical-align: top;\n",
       "    }\n",
       "\n",
       "    .dataframe thead th {\n",
       "        text-align: right;\n",
       "    }\n",
       "</style>\n",
       "<table border=\"1\" class=\"dataframe\">\n",
       "  <thead>\n",
       "    <tr style=\"text-align: right;\">\n",
       "      <th></th>\n",
       "      <th>celebrity</th>\n",
       "      <th>tweet</th>\n",
       "    </tr>\n",
       "  </thead>\n",
       "  <tbody>\n",
       "    <tr>\n",
       "      <th>0</th>\n",
       "      <td>katyperry</td>\n",
       "      <td>🇦🇺AUSTRALIA🇦🇺 Tickets &amp;amp; VIP packages for n...</td>\n",
       "    </tr>\n",
       "    <tr>\n",
       "      <th>1</th>\n",
       "      <td>katyperry</td>\n",
       "      <td>Can’t wait to share the stage with all these a...</td>\n",
       "    </tr>\n",
       "    <tr>\n",
       "      <th>2</th>\n",
       "      <td>katyperry</td>\n",
       "      <td>#FBF: Who's getting excited for the #VMAs? 🙋🏼B...</td>\n",
       "    </tr>\n",
       "    <tr>\n",
       "      <th>3</th>\n",
       "      <td>katyperry</td>\n",
       "      <td>Auditions kick off on Aug 17 @DisneySprings! 🎤...</td>\n",
       "    </tr>\n",
       "    <tr>\n",
       "      <th>4</th>\n",
       "      <td>katyperry</td>\n",
       "      <td>🇦🇺 AUSTRALIA❗Your 1st chance for 🎟 to the new ...</td>\n",
       "    </tr>\n",
       "  </tbody>\n",
       "</table>\n",
       "</div>"
      ],
      "text/plain": [
       "   celebrity                                              tweet\n",
       "0  katyperry  🇦🇺AUSTRALIA🇦🇺 Tickets &amp; VIP packages for n...\n",
       "1  katyperry  Can’t wait to share the stage with all these a...\n",
       "2  katyperry  #FBF: Who's getting excited for the #VMAs? 🙋🏼B...\n",
       "3  katyperry  Auditions kick off on Aug 17 @DisneySprings! 🎤...\n",
       "4  katyperry  🇦🇺 AUSTRALIA❗Your 1st chance for 🎟 to the new ..."
      ]
     },
     "execution_count": 23,
     "metadata": {
     },
     "output_type": "execute_result"
    }
   ],
   "source": [
    "import pickle\n",
    "tweet_list = pd.read_pickle('data/tweet_list.pkl')          #we can read in the pickle file which is similar to reading in a csv\n",
    "tweet_list['celebrity'] = tweet_list['celebrity'].str.lower()\n",
    "tweet_list.head()"
   ]
  },
  {
   "cell_type": "markdown",
   "metadata": {
    "collapsed": false
   },
   "source": [
    "There were 57 celebs and 66,303 total tweets in the dataset:"
   ]
  },
  {
   "cell_type": "code",
   "execution_count": 24,
   "metadata": {
    "collapsed": false
   },
   "outputs": [
    {
     "name": "stdout",
     "output_type": "stream",
     "text": [
      "57\n",
      "(66303, 2)\n"
     ]
    }
   ],
   "source": [
    "print(len(set(tweet_list['celebrity'])))\n",
    "print(tweet_list.shape)"
   ]
  },
  {
   "cell_type": "markdown",
   "metadata": {
    "collapsed": false
   },
   "source": [
    "Tweets contain tons of extra characters and punctuation. Let's use regular expressions to remove these. Don't worry about the code syntax below, just know that it is performing some cleaning:"
   ]
  },
  {
   "cell_type": "code",
   "execution_count": 25,
   "metadata": {
    "collapsed": false
   },
   "outputs": [
   ],
   "source": [
    "#group by celeb and calculate their positivity score\n",
    "\n",
    "#clean up tweets by removing hyperlinks, hashtags, etc.\n",
    "def remove_mypunct(corpus):\n",
    "\n",
    "    corpus = map(lambda x: re.sub(r\"(#|@|http)\\S+\", \"\", x), corpus) #get rid of hashtags \n",
    "    corpus = map(lambda x: re.sub(r\"(\\t|\\n|\\v|…|“|”)\", \"\", x), corpus) #get rid of whitesape\n",
    "    corpus = map(lambda x:  re.sub(r\"\"\"\\w*\\d\\w*\"\"\", ' ', x.lower()), corpus) #get rid of numbers\n",
    "    punc_re = re.compile('[%s]' % re.escape(string.punctuation))\n",
    "    corpus = map(lambda x: punc_re.sub(' ', x), corpus)\n",
    "    corpus = map(lambda x: re.sub('[\\W_]+', \" \", x), corpus) #get rid of emojis\n",
    "\n",
    "    return list(corpus)\n"
   ]
  },
  {
   "cell_type": "markdown",
   "metadata": {
    "collapsed": false
   },
   "source": [
    "Now, we'll go through each celebrity name, clean each tweet, calculate the polarity score of each tweet, and then find the average sentiment score of all of their tweets. We find that Neil Patrick Harris (@actuallynph) is the most positive Tweeter and Snoop Dogg (@snoopdogg) is the most negative Tweeter:"
   ]
  },
  {
   "cell_type": "code",
   "execution_count": 26,
   "metadata": {
    "collapsed": false
   },
   "outputs": [
    {
     "name": "stdout",
     "output_type": "stream",
     "text": [
      "(0.42542700000000006, 'actuallynph')\n",
      "(0.3692088407005838, 'louis_tomlinson')\n",
      "(0.3673526794742164, 'xtina')\n",
      "(0.35785616666666664, 'theellenshow')\n",
      "(0.3561306789606035, 'avrillavigne')\n",
      "(0.3534674728940784, 'khloekardashian')\n",
      "(0.3452982456140351, 'britneyspears')\n",
      "(0.3293881567973311, 'cristiano')\n",
      "(0.3213536666666667, 'billgates')\n",
      "(0.3125358585858586, 'kevinhart4real')\n",
      "(0.3025144891122278, 'harry_styles')\n",
      "(0.30182073578595314, 'jtimberlake')\n",
      "(0.3015826633165829, 'aliciakeys')\n",
      "(0.2973490392648287, 'kingjames')\n",
      "(0.29659799498746864, 'mariahcarey')\n",
      "(0.2839514595496247, 'oprah')\n",
      "(0.2808818490245972, 'ladygaga')\n",
      "(0.2799046861924686, 'taylorswift13')\n",
      "(0.265298322147651, 'adele')\n",
      "(0.26399233333333333, 'arianagrande')\n",
      "(0.2621433222036728, 'ddlovato')\n",
      "(0.26049095477386935, 'emmawatson')\n",
      "(0.26023653044203504, 'ryanseacrest')\n",
      "(0.25517808333333336, 'pitbull')\n",
      "(0.25230144680851063, 'kyliejenner')\n",
      "(0.2349787573467674, 'selenagomez')\n",
      "(0.22746379598662206, 'pink')\n",
      "(0.2251328607172644, 'aplusk')\n",
      "(0.22457633333333335, 'barackobama')\n",
      "(0.22378554572271386, 'leodicaprio')\n",
      "(0.22225549958018473, 'justinbieber')\n",
      "(0.21871933333333335, 'kdtrey5')\n",
      "(0.21660358632193494, 'jimmyfallon')\n",
      "(0.2161615843270869, 'jimcarrey')\n",
      "(0.21003299999999997, 'blakeshelton')\n",
      "(0.2058210175145955, 'davidguetta')\n",
      "(0.19613983333333335, 'mileycyrus')\n",
      "(0.18901169049621533, 'kimkardashian')\n",
      "(0.17601725, 'hillaryclinton')\n",
      "(0.17405604670558797, 'kourtneykardash')\n",
      "(0.16668198653198654, 'drake')\n",
      "(0.16496766917293232, 'jlo')\n",
      "(0.16436933333333334, 'realdonaldtrump')\n",
      "(0.1618359663865546, 'liltunechi')\n",
      "(0.15792021996615904, 'zaynmalik')\n",
      "(0.15763096828046744, 'rihanna')\n",
      "(0.15460393964794636, 'kendalljenner')\n",
      "(0.15217410192147035, 'katyperry')\n",
      "(0.147705, 'ricky_martin')\n",
      "(0.14004349286314025, 'nickiminaj')\n",
      "(0.1302740989103101, 'shakira')\n",
      "(0.12700105900151284, 'eminem')\n",
      "(0.11568708333333333, 'conanobrien')\n",
      "(0.11087016060862215, 'wizkhalifa')\n",
      "(0.10336068447412354, 'danieltosh')\n",
      "(0.08346675, 'chrisbrown')\n",
      "(0.05532652210175146, 'snoopdogg')\n"
     ]
    }
   ],
   "source": [
    "sid = SentimentIntensityAnalyzer()                     # this is the sentiment analyzer we'll use\n",
    "\n",
    "names = set(tweet_list['celebrity'].values)            # get list of celeb names\n",
    "\n",
    "sentiment = []                                         # we'll store tuples of sentiment score and celeb name\n",
    "\n",
    "for name in names:\n",
    "    celeb_tweets = tweet_list[tweet_list['celebrity'] == name]['tweet']   # get all tweets from given celeb\n",
    "    cleaned_up_tweets = remove_mypunct(celeb_tweets.values)               # clean up the tweet\n",
    "    \n",
    "    compound_scores = []                                    # calculate the sentiment score of each tweet\n",
    "    for sentence in cleaned_up_tweets:\n",
    "        ss = sid.polarity_scores(sentence)\n",
    "        compound_scores.append(float(ss['compound']))\n",
    "        \n",
    "    sentiment.append((np.mean(compound_scores), name))     # find the average sentiment score of the given celeb\n",
    "    \n",
    "sentiment.sort(reverse = True)                          # sort celeb tuples in decending order of sentiment score\n",
    "\n",
    "for celeb in sentiment:                                 # print each tuple\n",
    "    print(celeb)"
   ]
  },
  {
   "cell_type": "markdown",
   "metadata": {
    "collapsed": false
   },
   "source": [
    "If we wanted to view Snoop Dogg's most negative tweets, we could do so. We see that \"hell naw\" and \"Met gala shit\" are two very negative Tweets. However, by saying \"Met gala shit\" Snoop was probably bragging about being at the Met Gala, so this erroneously got classified as negative. Slang is very hard to classify!!"
   ]
  },
  {
   "cell_type": "code",
   "execution_count": 27,
   "metadata": {
    "collapsed": false
   },
   "outputs": [
    {
     "name": "stdout",
     "output_type": "stream",
     "text": [
      "-0.6808\n",
      "hell naw 😂 - @MERRYJANE https://t.co/S6Q0swki5a\n",
      "-0.5859\n",
      "Wtf?? Explains this 🤷🏾‍♂️🤷🏾‍♂️ https://t.co/uZEvpQGShS https://t.co/seqCqIFTvr\n",
      "-0.5859\n",
      "The All Eyez on Me Reviews Are Bullshit | L.A. Weekly https://t.co/jC5ZK3mDc8\n",
      "-0.5859\n",
      "Eat a snickers Bitch 🤣 https://t.co/h3SEpooAAN https://t.co/SfJ00b1eNI\n",
      "-0.5574\n",
      "Eastside Shit 👏🏾👏🏾💙 https://t.co/TpIBr0SWrD https://t.co/amb30wpUkD\n",
      "-0.5574\n",
      "Throwbac Kobe coat finals shit 🔥🔥👏🏾 https://t.co/lEtyRYjBzt https://t.co/Qt3NC45Ap2\n",
      "-0.5574\n",
      "Dubs up 90s shit https://t.co/Fz9Yb2T5VR https://t.co/dmwVQAtcbE\n",
      "-0.5574\n",
      "Bac on thy sosodef shit 🔥🔥🔥👊🏾 https://t.co/QnDmtOy0UJ https://t.co/cj4BPJK419\n",
      "-0.5574\n",
      "Met gala shit 🔥🔥. Empire. Wednesday https://t.co/RuUYimMZhp https://t.co/qkEK1KqFBY\n",
      "-0.5423\n",
      "Speed kills 🔥🔥🔥🔥 https://t.co/TA59kDUcNx https://t.co/UlGdseHA5Z\n",
      "-0.4939\n",
      "Video comin soon the moment I feared 🔥🔥🔥 https://t.co/8U6eLynspO https://t.co/AqRJjtYCI1\n",
      "-0.4939\n",
      "Hi. Haters 👏🏾👏🏾👏🏾🤣 https://t.co/kSiMTL6Cto https://t.co/QhuYXaxKNv\n",
      "-0.4767\n",
      "don’t believe the fake news n go see it for yourself ! the real fans are lovin #alleyezonme 👊🏿\n",
      "-0.4767\n",
      "This is sad 👎🏾🙏🏾🌹 https://t.co/miFWGg2GNb https://t.co/NclOlk0b8a\n",
      "-0.4588\n",
      "Savage 🔥🔥🔥🔥🔥 https://t.co/l6tGgWYC2p https://t.co/ZR2EP88sv6\n",
      "-0.4404\n",
      "next up we got the DBG (Dirty Bird Gang) reppin for the beach ! https://t.co/1y9sjZMgaY\n",
      "-0.4019\n",
      "Is there a problem 93🔥 https://t.co/rn3dUJYCAM https://t.co/ftOb3Pq175\n",
      "-0.4019\n",
      "RT @TheRealClassic: We got fights tonight 👊🏾👊🏾 @UrijahFaber @SnoopDogg #ContenderSeries #SnoopCast https://t.co/bn420hmACb\n",
      "-0.4019\n",
      "RT @UFCFightPass: Gin? Check. Juice? Check. That other stuff? Check. Fights - check em out NOW on #UFCFIGHTPASS!!! https://t.co/1YVf5Fxuq0\n",
      "-0.4019\n",
      "Damn 🤷🏾‍♂️ https://t.co/5M1OQkgJTu https://t.co/NF4IBgWowg\n"
     ]
    }
   ],
   "source": [
    "snoop_tweets = tweet_list[tweet_list['celebrity'] == 'snoopdogg' ]['tweet']\n",
    "\n",
    "clean_snoop_tweets = remove_mypunct(snoop_tweets.values)\n",
    "\n",
    "compound_scores = []\n",
    "\n",
    "for i, sentence in enumerate(clean_snoop_tweets):\n",
    "        ss = sid.polarity_scores(sentence)\n",
    "        compound_scores.append((float(ss['compound']), i,sentence))\n",
    "        \n",
    "compound_scores.sort()\n",
    "\n",
    "for i in range(20):\n",
    "    print(compound_scores[i][0])\n",
    "    print(snoop_tweets[compound_scores[i][1]])"
   ]
  },
  {
   "cell_type": "markdown",
   "metadata": {
    "collapsed": false
   },
   "source": [
    "We can also view Neil Patrick Harris' most positive Tweets. Look at his most positive Tweet. It's so saccharine sweet that I almost threw up in mouth a little bit!"
   ]
  },
  {
   "cell_type": "code",
   "execution_count": 28,
   "metadata": {
    "collapsed": false
   },
   "outputs": [
    {
     "name": "stdout",
     "output_type": "stream",
     "text": [
      "0.9765\n",
      "Happy Mother's Day. I am blessed with an absolutely fantastic mom - wonderful person, doting grandma, beautiful soul. I love her lots. 🌹\n",
      "0.97\n",
      "I had the great honor of presenting one of the @CNNHeroes Awards tonight. So inspiring, empowering, amazing. Please watch and support.\n",
      "0.9636\n",
      "A heartfelt HAPPY BIRTHDAY to the wonderful @DavidBurtka - the best dad in the world. I'm so glad you were born! http://t.co/KkdWZj0dkK\n",
      "0.9601\n",
      "Hope your 2014 is filled with many chapters of adventure, wisdom, and great good times! Happy New Year!!\n",
      "0.9595\n",
      "Happy Valentine's Day! Allow the love, find the love, make the love. Not necessarily in that order.\n",
      "0.9578\n",
      "It's my best friend @EdAlonzomagic 's birthday! He's awesome and magical and hilarious and deserves a shout out! Happy BD, ED!\n",
      "0.9571\n",
      "Excellent time in London seeing @Immersivegatsby. Great cast, great direction, Great Gatsby. Recommended!… https://t.co/DPWNsrnVmU\n",
      "0.9565\n",
      "So glad you had fun, mom. @BestTimeEver enjoyed watching you be wowed! Love you! #bestmomever https://t.co/tvi89ep5Um\n",
      "0.9565\n",
      "Happy NY Pride!! I'm so proud to live in such an inclusive, accepting city. Have fun, stand tall, help others and m… https://t.co/r5zHNpPrXg\n",
      "0.9559\n",
      "Super cool dad makes super rad vids of super hero son: http://t.co/9aD5cqc8hO via @Colossal, as usual.\n",
      "0.9542\n",
      "Happy 4th of July! I'm so proud of/grateful for everyone who protected/protects us and all of our freedoms. #HomeOfTheBrave\n",
      "0.9538\n",
      "Just a fantastic evening. Dinner w/ great friends @AmyAcker and @TheJimmyCarp, kids were hilarious, opened amazing gifts by @Davidburtka.#💝\n",
      "0.9524\n",
      "I’m having a blast narrating the Candlelight Processional here at #Epcot. Amazing orchestra, gorgeous voices, awesome crowds. Love Disney!\n",
      "0.9524\n",
      "Merry Christmas Eve! Hope your night is filled with love - whether it be by romance, friendship, or random circumstance. 'Tis the season!\n",
      "0.9517\n",
      "A gigantic Happy 40th Birthday to @DavidBurtka, who looks fantastic, laughs constantly, and loves life. I'm a lucky husband! #DILF #DIF\n",
      "0.9517\n",
      "I love supporting both immersive theatre and Kickstarter. Check out The Grand Paradise and help make it happen! http://t.co/iX28JkmZDz\n",
      "0.9485\n",
      "Happy 10th Anniversary to the gorgeous man I have the pleasure to love. davidburtka (Twitter), burtka… http://t.co/YsWZjgeEFA\n",
      "0.9472\n",
      "Happy Thanksgiving everyone! I'm so thankful for food, family, friends, and @Davidburtka. Loving today (and turkey)! https://t.co/GvfRy8V3Ox\n",
      "0.946\n",
      "Thanks @DrWillKirby for the awesome shoutout last night on @PriceIsRight. You have great taste in words. And game shows. Much love.\n",
      "0.9459\n",
      "So happy to have my best friend @EdAlonzomagic at @HedwigOnBway tonight. Meant a lot that he was there. Ed's super rad.\n"
     ]
    }
   ],
   "source": [
    "neil_tweets = tweet_list[tweet_list['celebrity'] == 'actuallynph' ]['tweet']\n",
    "\n",
    "clean_neil_tweets = remove_mypunct(neil_tweets.values)\n",
    "\n",
    "compound_scores = []\n",
    "\n",
    "for i, sentence in enumerate(clean_neil_tweets):\n",
    "        ss = sid.polarity_scores(sentence)\n",
    "        compound_scores.append((float(ss['compound']), i,sentence))\n",
    "        \n",
    "compound_scores.sort(reverse = True)\n",
    "\n",
    "for i in range(20):\n",
    "    print(compound_scores[i][0])\n",
    "    print(neil_tweets[compound_scores[i][1]])"
   ]
  }
 ],
 "metadata": {
  "kernelspec": {
   "display_name": "Python 3 (system-wide)",
   "language": "python",
   "metadata": {
    "cocalc": {
     "description": "Python 3 programming language",
     "priority": 100,
     "url": "https://www.python.org/"
    }
   },
   "name": "python3",
   "resource_dir": "/ext/jupyter/kernels/python3"
  },
  "language_info": {
   "codemirror_mode": {
    "name": "ipython",
    "version": 3
   },
   "file_extension": ".py",
   "mimetype": "text/x-python",
   "name": "python",
   "nbconvert_exporter": "python",
   "pygments_lexer": "ipython3",
   "version": "3.6.9"
  }
 },
 "nbformat": 4,
 "nbformat_minor": 4
}