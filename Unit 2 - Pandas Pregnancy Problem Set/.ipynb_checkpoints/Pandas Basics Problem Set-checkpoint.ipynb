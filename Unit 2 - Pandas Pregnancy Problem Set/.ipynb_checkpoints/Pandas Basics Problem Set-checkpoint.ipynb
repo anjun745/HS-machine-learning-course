{
 "cells": [
  {
   "cell_type": "markdown",
   "metadata": {},
   "source": [
    "1.) Once again, read in the file '2002FemPreg.csv'. Strip any whitespace from the column names. "
   ]
  },
  {
   "cell_type": "code",
   "execution_count": 1,
   "metadata": {},
   "outputs": [],
   "source": [
    "import pandas as pd \n",
    "import numpy as np \n",
    "import random \n",
    "import matplotlib.pyplot as plt \n",
    "%matplotlib inline "
   ]
  },
  {
   "cell_type": "code",
   "execution_count": 7,
   "metadata": {},
   "outputs": [
    {
     "data": {
      "text/plain": [
       "3316692"
      ]
     },
     "execution_count": 7,
     "metadata": {},
     "output_type": "execute_result"
    }
   ],
   "source": [
    "#insert 1\n",
    "preg = pd.read_csv('data/2002FemPreg.csv', index_col = 0)\n",
    "preg.columns = preg.columns.str.strip()\n",
    "preg.head()\n",
    "preg.size"
   ]
  },
  {
   "cell_type": "markdown",
   "metadata": {},
   "source": [
    "2.) Reduce the dataframe to only contain data on live births (meaning the preg.outcome == 1)."
   ]
  },
  {
   "cell_type": "code",
   "execution_count": 8,
   "metadata": {},
   "outputs": [
    {
     "data": {
      "text/plain": [
       "2232112"
      ]
     },
     "execution_count": 8,
     "metadata": {},
     "output_type": "execute_result"
    }
   ],
   "source": [
    "#insert 2\n",
    "preg = preg[(preg.outcome == 1)]\n",
    "preg.head()\n",
    "preg.size"
   ]
  },
  {
   "cell_type": "markdown",
   "metadata": {},
   "source": [
    "3.) Reduce the data frame further to consider data for only non-null baby weights (totalwgt_lb) and non-null mother's age values (agepreg)."
   ]
  },
  {
   "cell_type": "code",
   "execution_count": 10,
   "metadata": {},
   "outputs": [
    {
     "data": {
      "text/plain": [
       "2205272"
      ]
     },
     "execution_count": 10,
     "metadata": {},
     "output_type": "execute_result"
    }
   ],
   "source": [
    "#insert 3\n",
    "preg = preg.dropna(subset=['agepreg', 'totalwgt_lb'])\n",
    "preg.size"
   ]
  },
  {
   "cell_type": "markdown",
   "metadata": {},
   "source": [
    "4.) Update the mother's age column so that the ages are no longer but decimals but rounded down integers. Meaning, if the woman's age is saved as 47.8, then re-save it as 47. Hint: recast the column data type as an integer."
   ]
  },
  {
   "cell_type": "code",
   "execution_count": 64,
   "metadata": {},
   "outputs": [],
   "source": [
    "#insert 4\n",
    "preg['agepreg'] = preg['agepreg'].astype(int)"
   ]
  },
  {
   "cell_type": "markdown",
   "metadata": {},
   "source": [
    "5.) Make a histogram of the womens' ages. Label axes and give a title."
   ]
  },
  {
   "cell_type": "code",
   "execution_count": 22,
   "metadata": {
    "collapsed": false,
    "jupyter": {
     "outputs_hidden": false
    }
   },
   "outputs": [
    {
     "data": {
      "text/plain": [
       "Text(0, 0.5, 'counts')"
      ]
     },
     "execution_count": 22,
     "metadata": {},
     "output_type": "execute_result"
    },
    {
     "data": {
      "image/png": "[encoded data removed]",
      "text/plain": [
       "<Figure size 432x288 with 1 Axes>"
      ]
     },
     "metadata": {
      "needs_background": "light"
     },
     "output_type": "display_data"
    }
   ],
   "source": [
    "#insert 5\n",
    "plt.hist(preg['agepreg'])\n",
    "plt.title('Preg age frequency')\n",
    "plt.xlabel('preg age')\n",
    "plt.ylabel('counts')"
   ]
  },
  {
   "cell_type": "markdown",
   "metadata": {},
   "source": [
    "6.) Create a frequency chart in descending order of age frequency."
   ]
  },
  {
   "cell_type": "code",
   "execution_count": 35,
   "metadata": {},
   "outputs": [
    {
     "data": {
      "text/plain": [
       "21    636\n",
       "20    631\n",
       "23    588\n",
       "24    558\n",
       "19    557\n",
       "22    549\n",
       "18    539\n",
       "26    512\n",
       "25    508\n",
       "27    485\n",
       "28    439\n",
       "17    393\n",
       "30    392\n",
       "29    392\n",
       "31    336\n",
       "32    276\n",
       "16    237\n",
       "33    218\n",
       "34    171\n",
       "35    133\n",
       "15    126\n",
       "36     98\n",
       "37     82\n",
       "38     54\n",
       "14     43\n",
       "39     34\n",
       "40     19\n",
       "41     13\n",
       "13     11\n",
       "10      2\n",
       "42      2\n",
       "11      1\n",
       "12      1\n",
       "44      1\n",
       "43      1\n",
       "Name: agepreg, dtype: int64"
      ]
     },
     "execution_count": 35,
     "metadata": {},
     "output_type": "execute_result"
    }
   ],
   "source": [
    "#insert 6\n",
    "preg.agepreg.value_counts(ascending=False)"
   ]
  },
  {
   "cell_type": "markdown",
   "metadata": {},
   "source": [
    "7.) Create a frequency chart in ascending order of age."
   ]
  },
  {
   "cell_type": "code",
   "execution_count": 36,
   "metadata": {
    "collapsed": false,
    "jupyter": {
     "outputs_hidden": false
    }
   },
   "outputs": [
    {
     "data": {
      "text/plain": [
       "43      1\n",
       "44      1\n",
       "12      1\n",
       "11      1\n",
       "42      2\n",
       "10      2\n",
       "13     11\n",
       "41     13\n",
       "40     19\n",
       "39     34\n",
       "14     43\n",
       "38     54\n",
       "37     82\n",
       "36     98\n",
       "15    126\n",
       "35    133\n",
       "34    171\n",
       "33    218\n",
       "16    237\n",
       "32    276\n",
       "31    336\n",
       "29    392\n",
       "30    392\n",
       "17    393\n",
       "28    439\n",
       "27    485\n",
       "25    508\n",
       "26    512\n",
       "18    539\n",
       "22    549\n",
       "19    557\n",
       "24    558\n",
       "23    588\n",
       "20    631\n",
       "21    636\n",
       "Name: agepreg, dtype: int64"
      ]
     },
     "execution_count": 36,
     "metadata": {},
     "output_type": "execute_result"
    }
   ],
   "source": [
    "#insert 7\n",
    "preg.agepreg.value_counts(ascending=True)"
   ]
  },
  {
   "cell_type": "markdown",
   "metadata": {},
   "source": [
    "8.) How old was the youngest and oldest mother in the survey and how much did their baby weigh?"
   ]
  },
  {
   "cell_type": "code",
   "execution_count": 53,
   "metadata": {},
   "outputs": [
    {
     "name": "stdout",
     "output_type": "stream",
     "text": [
      "oldest age: 44 weight: 6.4375\n",
      "youngest age: 10 weight: 6.4375\n"
     ]
    }
   ],
   "source": [
    "#insert 8\n",
    "o = preg[(preg.agepreg == preg.agepreg.max())]\n",
    "print('oldest age:', o.agepreg.values[0], 'weight:', o.totalwgt_lb.values[0])\n",
    "y = preg[(preg.agepreg == preg.agepreg.min())]\n",
    "print('youngest age:', y.agepreg.values[0], 'weight:', y.totalwgt_lb.values[0])\n",
    "# probably just by chance the weights are the same"
   ]
  },
  {
   "cell_type": "markdown",
   "metadata": {},
   "source": [
    "9.) What is the average woman's age? What is the woman's age in the 25th quartile? The 75th?"
   ]
  },
  {
   "cell_type": "code",
   "execution_count": 62,
   "metadata": {
    "collapsed": false,
    "jupyter": {
     "outputs_hidden": false
    },
    "scrolled": true
   },
   "outputs": [
    {
     "name": "stdout",
     "output_type": "stream",
     "text": [
      "avg age:  24.47975215755698\n",
      "25th quartile:  20.0\n",
      "75th quartile:  28.0\n"
     ]
    }
   ],
   "source": [
    "#insert 9\n",
    "print('avg age: ', preg.agepreg.mean())\n",
    "print('25th quartile: ', preg.agepreg.quantile(q=0.25))\n",
    "print('75th quartile: ', preg.agepreg.quantile(q=0.75))"
   ]
  },
  {
   "cell_type": "markdown",
   "metadata": {},
   "source": [
    "10.) Find the average birthweight for the mothers in the youngest quartile and in the oldest quartile. Might younger mothers tend to have heavier babies?"
   ]
  },
  {
   "cell_type": "code",
   "execution_count": 67,
   "metadata": {
    "collapsed": false,
    "jupyter": {
     "outputs_hidden": false
    }
   },
   "outputs": [
    {
     "name": "stdout",
     "output_type": "stream",
     "text": [
      "avg of youngest 25%:  7.1012150728059815\n",
      "avg of oldest 25%:  7.369950206689214\n"
     ]
    }
   ],
   "source": [
    "#insert 10\n",
    "print('avg of youngest 25%: ', preg[(preg.agepreg <= 20)].totalwgt_lb.mean())\n",
    "print('avg of oldest 25%: ', preg[(preg.agepreg >= 28)].totalwgt_lb.mean())"
   ]
  },
  {
   "cell_type": "markdown",
   "metadata": {},
   "source": [
    "11.) Make a comparative histogram of baby weights for mothers in the youngest and oldest quartile."
   ]
  },
  {
   "cell_type": "code",
   "execution_count": 80,
   "metadata": {
    "collapsed": false,
    "jupyter": {
     "outputs_hidden": false
    }
   },
   "outputs": [
    {
     "data": {
      "text/plain": [
       "Text(0.5, 1.0, 'Weight comparison of old vs young birth')"
      ]
     },
     "execution_count": 80,
     "metadata": {},
     "output_type": "execute_result"
    },
    {
     "data": {
      "image/png": "[encoded data removed]",
      "text/plain": [
       "<Figure size 432x288 with 1 Axes>"
      ]
     },
     "metadata": {
      "needs_background": "light"
     },
     "output_type": "display_data"
    }
   ],
   "source": [
    "#insert 11\n",
    "young = preg[(preg.agepreg <= 20)].totalwgt_lb\n",
    "old = preg[(preg.agepreg >= 28)].totalwgt_lb\n",
    "plt.hist([young, old], density=True)\n",
    "plt.legend(['<=25%', '>=75%'])\n",
    "plt.xlabel('Weight')\n",
    "plt.ylabel('Frequency')\n",
    "plt.title('Weight comparison of old vs young birth')"
   ]
  },
  {
   "cell_type": "markdown",
   "metadata": {},
   "source": [
    "By the way, where did this large pregnancy dataset come from? I found it in a super amazing open resource, online Python statistics book called Think Stats. You should check out all of the modules here: http://greenteapress.com/thinkstats/\n",
    "\n",
    "The dataset itself is obtained from the CDC's 2002 Cycle 6 "
   ]
  }
 ],
 "metadata": {
  "kernelspec": {
   "display_name": "Python 3",
   "language": "python",
   "name": "python3"
  },
  "language_info": {
   "codemirror_mode": {
    "name": "ipython",
    "version": 3
   },
   "file_extension": ".py",
   "mimetype": "text/x-python",
   "name": "python",
   "nbconvert_exporter": "python",
   "pygments_lexer": "ipython3",
   "version": "3.7.3"
  }
 },
 "nbformat": 4,
 "nbformat_minor": 4
}
