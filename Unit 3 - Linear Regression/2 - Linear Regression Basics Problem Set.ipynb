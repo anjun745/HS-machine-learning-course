{
 "cells": [
  {
   "cell_type": "markdown",
   "metadata": {
    "collapsed": false
   },
   "source": [
    "Import the required packages below:"
   ]
  },
  {
   "cell_type": "code",
   "execution_count": 1,
   "metadata": {
    "collapsed": false
   },
   "outputs": [
   ],
   "source": [
    "import numpy as np\n",
    "import pandas as pd\n",
    "import matplotlib.pyplot as plt\n",
    "%matplotlib inline\n",
    "from sklearn.linear_model import LinearRegression\n",
    "from sklearn.metrics import mean_squared_error\n",
    "from scipy.stats import pearsonr"
   ]
  },
  {
   "cell_type": "markdown",
   "metadata": {
    "collapsed": false
   },
   "source": [
    "Read in the CSV file data/airlines.csv containing the following info:\n",
    "![title](data/airlines.png)\n",
    "Use it to answer the following questions:"
   ]
  },
  {
   "cell_type": "markdown",
   "metadata": {
    "collapsed": false
   },
   "source": [
    "1. Make a scatterplot of baggage vs. on time arrivals."
   ]
  },
  {
   "cell_type": "code",
   "execution_count": 2,
   "metadata": {
    "collapsed": false
   },
   "outputs": [
    {
     "data": {
      "text/plain": [
       "Text(0, 0.5, 'Percentage of on time arrivals')"
      ]
     },
     "execution_count": 2,
     "metadata": {
     },
     "output_type": "execute_result"
    },
    {
     "data": {
      "image/png": "[encoded data removed]",
      "text/plain": [
       "<Figure size 432x288 with 1 Axes>"
      ]
     },
     "execution_count": 2,
     "metadata": {
      "image/png": {
       "height": 261,
       "width": 382
      },
      "needs_background": "light"
     },
     "output_type": "execute_result"
    }
   ],
   "source": [
    "#insert 1\n",
    "df = pd.read_csv('data/airlines.csv')\n",
    "plt.plot(df['Mishandled baggage (per 1000 passengers)'], df['Percentage On Time Arrivals'], '.')\n",
    "\n",
    "plt.xlabel('Mishandled baggae per 1000 passengers')\n",
    "plt.ylabel('Percentage of on time arrivals')"
   ]
  },
  {
   "cell_type": "markdown",
   "metadata": {
    "collapsed": false
   },
   "source": [
    "2. What is the correlation between baggage and on time arrivals?"
   ]
  },
  {
   "cell_type": "code",
   "execution_count": 3,
   "metadata": {
    "collapsed": false
   },
   "outputs": [
    {
     "data": {
      "text/plain": [
       "-0.5953193405508687"
      ]
     },
     "execution_count": 3,
     "metadata": {
     },
     "output_type": "execute_result"
    }
   ],
   "source": [
    "#insert 2\n",
    "r = pearsonr(df['Mishandled baggage (per 1000 passengers)'], df['Percentage On Time Arrivals'])[0]\n",
    "r"
   ]
  },
  {
   "cell_type": "markdown",
   "metadata": {
    "collapsed": false
   },
   "source": [
    "3. What are the mean and standard deviation of the X and Y variables"
   ]
  },
  {
   "cell_type": "code",
   "execution_count": 4,
   "metadata": {
    "collapsed": false
   },
   "outputs": [
    {
     "name": "stdout",
     "output_type": "stream",
     "text": [
      "X mean: 5.739, Y mean: 74.85000000000001\n",
      "X std: 1.3977000949973335, Y std: 5.0535466093955606\n"
     ]
    }
   ],
   "source": [
    "#insert 3\n",
    "print(f\"X mean: {df['Mishandled baggage (per 1000 passengers)'].mean()}, Y mean: {df['Percentage On Time Arrivals'].mean()}\")\n",
    "print(f\"X std: {df['Mishandled baggage (per 1000 passengers)'].std()}, Y std: {df['Percentage On Time Arrivals'].std()}\")\n",
    "xs = df['Mishandled baggage (per 1000 passengers)'].std()\n",
    "ys = df['Percentage On Time Arrivals'].std()\n",
    "xm = df['Mishandled baggage (per 1000 passengers)'].mean()\n",
    "ym = df['Percentage On Time Arrivals'].mean()"
   ]
  },
  {
   "cell_type": "markdown",
   "metadata": {
    "collapsed": false
   },
   "source": [
    "4. Calculate the line of best fit by hand (show your calculations you use below)."
   ]
  },
  {
   "cell_type": "code",
   "execution_count": 5,
   "metadata": {
    "collapsed": false
   },
   "outputs": [
    {
     "data": {
      "text/plain": [
       "(-2.152446040260291, 87.20288782505382)"
      ]
     },
     "execution_count": 5,
     "metadata": {
     },
     "output_type": "execute_result"
    }
   ],
   "source": [
    "#insert 4\n",
    "m = r*(ys/xs)\n",
    "b = ym - m*xm\n",
    "(m, b)"
   ]
  },
  {
   "cell_type": "markdown",
   "metadata": {
    "collapsed": false
   },
   "source": [
    "5.Use scikit-learn to calculate the line of best fit. Print the slope and intercept."
   ]
  },
  {
   "cell_type": "code",
   "execution_count": 6,
   "metadata": {
    "collapsed": false
   },
   "outputs": [
    {
     "data": {
      "text/plain": [
       "Index(['Airline', 'Mishandled baggage (per 1000 passengers)',\n",
       "       'Percentage On Time Arrivals'],\n",
       "      dtype='object')"
      ]
     },
     "execution_count": 6,
     "metadata": {
     },
     "output_type": "execute_result"
    }
   ],
   "source": [
    "df.columns"
   ]
  },
  {
   "cell_type": "code",
   "execution_count": 7,
   "metadata": {
    "collapsed": false
   },
   "outputs": [
    {
     "name": "stdout",
     "output_type": "stream",
     "text": [
      "interc:  87.20288782505382\n",
      "slope:  [-2.15244604]\n"
     ]
    }
   ],
   "source": [
    "# #insert 5\n",
    "model = LinearRegression()\n",
    "y = df['Percentage On Time Arrivals']\n",
    "x = df.drop(['Percentage On Time Arrivals', 'Airline'], axis=1)\n",
    "# x= df['Mishandled baggage (per 1000 passengers)']\n",
    "# print(x)\n",
    "model.fit(x, y)\n",
    "print('interc: ', model.intercept_)\n",
    "print('slope: ', model.coef_)"
   ]
  },
  {
   "cell_type": "markdown",
   "metadata": {
    "collapsed": false
   },
   "source": [
    "6.Superimpose the line of best fit on the data."
   ]
  },
  {
   "cell_type": "code",
   "execution_count": 8,
   "metadata": {
    "collapsed": false
   },
   "outputs": [
    {
     "data": {
      "text/plain": [
       "<matplotlib.legend.Legend at 0x7f3401c9ca60>"
      ]
     },
     "execution_count": 8,
     "metadata": {
     },
     "output_type": "execute_result"
    },
    {
     "data": {
      "image/png": "[encoded data removed]",
      "text/plain": [
       "<Figure size 432x288 with 1 Axes>"
      ]
     },
     "execution_count": 8,
     "metadata": {
      "image/png": {
       "height": 261,
       "width": 382
      },
      "needs_background": "light"
     },
     "output_type": "execute_result"
    }
   ],
   "source": [
    "#insert 6\n",
    "b = model.intercept_\n",
    "m = model.coef_[0]\n",
    "plt.plot(x,y,'.', label='actual')\n",
    "plt.plot(x, m*x+b, '.', label='predicted')\n",
    "plt.xlabel('mishandled bags per 1000 passengers')\n",
    "plt.ylabel('percentag of on time arrivals')\n",
    "plt.legend()"
   ]
  },
  {
   "cell_type": "markdown",
   "metadata": {
    "collapsed": false
   },
   "source": [
    "7. Interpret the slope of your model in context."
   ]
  },
  {
   "cell_type": "code",
   "execution_count": 9,
   "metadata": {
    "collapsed": false
   },
   "outputs": [
    {
     "ename": "SyntaxError",
     "evalue": "invalid syntax (<ipython-input-9-34ee5a91668e>, line 2)",
     "output_type": "error",
     "traceback": [
      "\u001b[0;36m  File \u001b[0;32m\"<ipython-input-9-34ee5a91668e>\"\u001b[0;36m, line \u001b[0;32m2\u001b[0m\n\u001b[0;31m    the slope of the model shows that as the mishandled bags per 1000 pasengers increase, the percentage of ontime arrivals decrease, the slope specifically shows that for every mishandled baggage, approximately 1% of flights are no longer on time (seen from graph)\u001b[0m\n\u001b[0m        ^\u001b[0m\n\u001b[0;31mSyntaxError\u001b[0m\u001b[0;31m:\u001b[0m invalid syntax\n"
     ]
    }
   ],
   "source": [
    "#insert 7\n",
    "the slope of the model shows that as the mishandled bags per 1000 pasengers increase, the percentage of ontime arrivals decrease, the slope specifically shows that for every mishandled baggage, approximately 1% of flights are no longer on time (seen from graph)"
   ]
  },
  {
   "cell_type": "markdown",
   "metadata": {
    "collapsed": false
   },
   "source": [
    "8. Interpret the intercept of your model in context."
   ]
  },
  {
   "cell_type": "code",
   "execution_count": 10,
   "metadata": {
    "collapsed": false
   },
   "outputs": [
    {
     "ename": "SyntaxError",
     "evalue": "invalid syntax (<ipython-input-10-293920502f42>, line 2)",
     "output_type": "error",
     "traceback": [
      "\u001b[0;36m  File \u001b[0;32m\"<ipython-input-10-293920502f42>\"\u001b[0;36m, line \u001b[0;32m2\u001b[0m\n\u001b[0;31m    the intercept of the model is what the percentage of on time arrivals are at with x=0 mishandled baggages, which is approximately 87.2%\u001b[0m\n\u001b[0m        ^\u001b[0m\n\u001b[0;31mSyntaxError\u001b[0m\u001b[0;31m:\u001b[0m invalid syntax\n"
     ]
    }
   ],
   "source": [
    "#insert 8\n",
    "the intercept of the model is what the percentage of on time arrivals are at with x=0 mishandled baggages, which is approximately 87.2%"
   ]
  },
  {
   "cell_type": "markdown",
   "metadata": {
    "collapsed": false
   },
   "source": [
    "9.Calculate and explain the meaning of your $R^2$ in context."
   ]
  },
  {
   "cell_type": "code",
   "execution_count": 11,
   "metadata": {
    "collapsed": false
   },
   "outputs": [
    {
     "name": "stdout",
     "output_type": "stream",
     "text": [
      "0.35440511723392115\n"
     ]
    }
   ],
   "source": [
    "#insert 9\n",
    "r2 = r**2\n",
    "print(r2)"
   ]
  },
  {
   "cell_type": "code",
   "execution_count": 12,
   "metadata": {
    "collapsed": false
   },
   "outputs": [
    {
     "ename": "SyntaxError",
     "evalue": "invalid syntax (<ipython-input-12-922186877c2a>, line 1)",
     "output_type": "error",
     "traceback": [
      "\u001b[0;36m  File \u001b[0;32m\"<ipython-input-12-922186877c2a>\"\u001b[0;36m, line \u001b[0;32m1\u001b[0m\n\u001b[0;31m    r squared is the correlation coefficient of the data, and being at 0.354 means that there is quite a bit of error in the prediction that would not be able to be accounted for. In this case, meaning the data predicted will likely have high residue.\u001b[0m\n\u001b[0m      ^\u001b[0m\n\u001b[0;31mSyntaxError\u001b[0m\u001b[0;31m:\u001b[0m invalid syntax\n"
     ]
    }
   ],
   "source": [
    "r squared is the correlation coefficient of the data, and being at 0.354 means that there is quite a bit of error in the prediction that would not be able to be accounted for. In this case, meaning the data predicted will likely have high residue."
   ]
  },
  {
   "cell_type": "markdown",
   "metadata": {
    "collapsed": false
   },
   "source": [
    "10.Create a residual plot. Based on the residual plot, does a linear model seem appropriate?"
   ]
  },
  {
   "cell_type": "code",
   "execution_count": 13,
   "metadata": {
    "collapsed": false
   },
   "outputs": [
    {
     "data": {
      "text/plain": [
       "Text(0, 0.5, 'Residual')"
      ]
     },
     "execution_count": 13,
     "metadata": {
     },
     "output_type": "execute_result"
    },
    {
     "data": {
      "image/png": "[encoded data removed]",
      "text/plain": [
       "<Figure size 432x288 with 1 Axes>"
      ]
     },
     "execution_count": 13,
     "metadata": {
      "image/png": {
       "height": 261,
       "width": 384
      },
      "needs_background": "light"
     },
     "output_type": "execute_result"
    }
   ],
   "source": [
    "#insert 10\n",
    "plt.plot(x,y - model.predict(x), '.')\n",
    "plt.xlabel('Mishandled bags')\n",
    "plt.ylabel('Residual')\n",
    "# I think that a linear model could work, the residue does seem very high, but there seems to be no obivious pattern so from what I would know a linear model might be the best, however if I knew a better prediction model to fit something without a pattern, I would use that"
   ]
  },
  {
   "cell_type": "markdown",
   "metadata": {
    "collapsed": false
   },
   "source": [
    "11. Calculate the residual of American Airlines using Python syntax."
   ]
  },
  {
   "cell_type": "code",
   "execution_count": 14,
   "metadata": {
    "collapsed": false
   },
   "outputs": [
    {
     "data": {
      "text/plain": [
       "4.081776910481054"
      ]
     },
     "execution_count": 14,
     "metadata": {
     },
     "output_type": "execute_result"
    }
   ],
   "source": [
    "#insert 11\n",
    "aa = df.iloc[0, 2]  # y\n",
    "ap = df.iloc[0, 1]  # x\n",
    "# ap, aa\n",
    "ra = aa - (b+(m*ap))\n",
    "ra"
   ]
  },
  {
   "cell_type": "markdown",
   "metadata": {
    "collapsed": false
   },
   "source": [
    "12. As a consumer, would you prefer to fly on an airline that had a positive or negative residual? Why?"
   ]
  },
  {
   "cell_type": "code",
   "execution_count": 0,
   "metadata": {
    "collapsed": false
   },
   "outputs": [
   ],
   "source": [
    "#insert 12\n",
    "# Positive residual, because that would mean the chances of my flight arriving on time is higher. Although this is a weird question, because I would rather be late than have them mess up my packages"
   ]
  },
  {
   "cell_type": "markdown",
   "metadata": {
    "collapsed": false
   },
   "source": [
    "13. What would you predict an airline with a mishandled baggage rate of 10 (per 1000 customers) to have as their ontime arrival percentage?"
   ]
  },
  {
   "cell_type": "code",
   "execution_count": 41,
   "metadata": {
    "collapsed": false
   },
   "outputs": [
    {
     "name": "stdout",
     "output_type": "stream",
     "text": [
      "65.67842742245091\n",
      "65.678%\n"
     ]
    }
   ],
   "source": [
    "#Insert 13\n",
    "# print(b)\n",
    "print(b+(m*10))\n",
    "print('65.678%')"
   ]
  },
  {
   "cell_type": "code",
   "execution_count": 0,
   "metadata": {
    "collapsed": false
   },
   "outputs": [
   ],
   "source": [
   ]
  }
 ],
 "metadata": {
  "kernelspec": {
   "display_name": "Python 3 (system-wide)",
   "language": "python",
   "metadata": {
    "cocalc": {
     "description": "Python 3 programming language",
     "priority": 100,
     "url": "https://www.python.org/"
    }
   },
   "name": "python3",
   "resource_dir": "/ext/jupyter/kernels/python3"
  },
  "language_info": {
   "codemirror_mode": {
    "name": "ipython",
    "version": 3
   },
   "file_extension": ".py",
   "mimetype": "text/x-python",
   "name": "python",
   "nbconvert_exporter": "python",
   "pygments_lexer": "ipython3",
   "version": "3.8.5"
  }
 },
 "nbformat": 4,
 "nbformat_minor": 4
}